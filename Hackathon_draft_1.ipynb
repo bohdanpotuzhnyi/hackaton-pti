{
 "cells": [
  {
   "cell_type": "markdown",
   "id": "8e246693",
   "metadata": {},
   "source": [
    "Data provided hold the historical records of Opportunities (a potential deal with client). Opportunity is presented by the following (main) columns (properties): OpportunityId - to identify a separate Opportunity uniquely, CreatedDate - the date of the record creation, StageName - probability and the short stage description for a successful deal closing (100% Opportunity) Amount - (a current corrected version of) sum of the (potential) deal // ??? CloseDate - forecasted deal closing date Probability - the probability of success for this opportunity at its current stage other fields - properties of the Opportunity\n",
    "\n",
    "You have the history of interactions with clients (Opportunity is a potential deal).\n",
    "You should forecast the Probability of successful deal (Opportunity) closing.\n",
    "Speaking more precisely, to forecast most likely next Probability using the known previous history for this Opportunity (potential deal), namely Stage + Probability changes in previous time.\n",
    "Also you could use available properties of that Opportunity"
   ]
  },
  {
   "cell_type": "code",
   "execution_count": 7,
   "id": "380bf5dd",
   "metadata": {},
   "outputs": [
    {
     "name": "stdout",
     "output_type": "stream",
     "text": [
      "2.8.0\n"
     ]
    }
   ],
   "source": [
    "import pandas as pd\n",
    "pd.plotting.register_matplotlib_converters()\n",
    "import matplotlib.pyplot as plt\n",
    "%matplotlib inline\n",
    "import seaborn as sns\n",
    "import numpy as np\n",
    "import tensorflow as tf\n",
    "from sklearn.ensemble import RandomForestRegressor\n",
    "from datetime import datetime\n",
    "\n",
    "print(tf.__version__)"
   ]
  },
  {
   "cell_type": "code",
   "execution_count": 8,
   "id": "02f08620",
   "metadata": {},
   "outputs": [],
   "source": [
    "df = pd.read_csv(\"test_data_full.csv\")"
   ]
  },
  {
   "cell_type": "code",
   "execution_count": 9,
   "id": "9bf7b803",
   "metadata": {
    "scrolled": false
   },
   "outputs": [
    {
     "data": {
      "text/plain": "Unnamed: 0                            0\nId                                    0\nOpportunityId                         0\nCreatedById                           0\nCreatedDate                           0\nCreatedDateForInsert                  0\nStageName                             0\nAmount                                0\nProbability                           0\nPrevOpportunityStageUpdate            0\nValidThroughDate                    927\nSystemModstamp                        0\nIsDeleted                             0\nPrevAmount                         3843\nPrevCloseDate                      3741\nAccountId                             0\nRecordTypeId                        216\nStageSortOrder                        0\nType                                  0\nLeadSource                          681\nCampaignId                            0\nOwnerId                               0\nTerritory2Id                          0\nFiscalYear                            0\nFiscalQuarter                         0\nContactId                             0\nPartnerAccountId                    110\nNumber_of_Seats__c                  477\nSCC_Interest__c                       0\nCompany_s_CRM_Type__c              1045\nDeal_type__c                       1107\nNeeds__c                           2998\nType_of_Users__c                   4455\nTAM__c                              274\nSecondary_CSM__c                    300\nSource_Type__c                     1350\nOriginal_Lead_Source__c             972\nOriginal_Lead_Source_Details__c    1289\ndtype: int64"
     },
     "execution_count": 9,
     "metadata": {},
     "output_type": "execute_result"
    }
   ],
   "source": [
    "missing_values_count = df.isnull().sum()\n",
    "missing_values_count"
   ]
  },
  {
   "cell_type": "code",
   "execution_count": 10,
   "id": "8a5874d2",
   "metadata": {
    "scrolled": true
   },
   "outputs": [
    {
     "name": "stderr",
     "output_type": "stream",
     "text": [
      "C:\\Users\\Bohdan Potuzhnyi\\AppData\\Local\\Temp\\ipykernel_20848\\1709562736.py:3: SettingWithCopyWarning: \n",
      "A value is trying to be set on a copy of a slice from a DataFrame.\n",
      "Try using .loc[row_indexer,col_indexer] = value instead\n",
      "\n",
      "See the caveats in the documentation: https://pandas.pydata.org/pandas-docs/stable/user_guide/indexing.html#returning-a-view-versus-a-copy\n",
      "  data.StageName = data.StageName.apply(lambda x: '1' if '100' in x else '0')\n"
     ]
    }
   ],
   "source": [
    "data = df[df['StageName'].str.contains('100%') | df['StageName'].str.contains('0% prob')]\n",
    "\n",
    "data.StageName = data.StageName.apply(lambda x: '1' if '100' in x else '0')"
   ]
  },
  {
   "cell_type": "code",
   "execution_count": 11,
   "id": "99aa3a71",
   "metadata": {},
   "outputs": [
    {
     "data": {
      "text/plain": "OpportunityId\n0061300001KIkjMAAT    1\n0061B00001RMeAjQAL    1\n0061300001HidygAAB    1\n0061300001HjfPrAAJ    1\n0061300001FVMHDAA5    1\n                     ..\n0064v00001q6b2XAAQ    8\n0063000000DI4dZAAT    8\n0064v00001s7BDYAA2    8\n0061B00001c2JpRQAU    8\n0061B00001ZG7GcQAL    8\nName: OpportunityId, Length: 700, dtype: int64"
     },
     "execution_count": 11,
     "metadata": {},
     "output_type": "execute_result"
    }
   ],
   "source": [
    "series = data.groupby(\"OpportunityId\").OpportunityId.count()\n",
    "series.sort_values(inplace=True)\n",
    "series.head(700)"
   ]
  },
  {
   "cell_type": "code",
   "id": "97947a27",
   "metadata": {
    "pycharm": {
     "name": "#%%\n"
    }
   },
   "source": [
    "opp_id = \"0061B00001c2JpRQAU\"\n",
    "specific_opportinity = data.loc[(data.OpportunityId == opp_id)]\n",
    "status = (specific_opportinity.loc[specific_opportinity.index[0], 'StageName'] == '1')\n",
    "# 1-success\n",
    "# 0-failure\n",
    "\n",
    "print(status)\n",
    "specific_opportinity = specific_opportinity.sort_values(by=\"CreatedDateForInsert\", ascending=True)\n",
    "specific_opportinity\n",
    "\n",
    "start_date = specific_opportinity.loc[specific_opportinity.index[0], \"CreatedDate\"]\n",
    "start_date = datetime.strptime(start_date, '%m/%d/%Y %H:%M')\n",
    "\n",
    "res_arr = []\n",
    "arr = []\n",
    "i = 0\n",
    "for current in specific_opportinity[\"CreatedDateForInsert\"]:\n",
    "    current_date = datetime.strptime(current, '%Y-%m-%d %H:%M:%S')\n",
    "    res_arr.append(int((current_date - start_date).total_seconds()))\n",
    "    if i == 0:\n",
    "        arr.append(int((current_date - start_date).total_seconds()))\n",
    "        i+=1\n",
    "    else:\n",
    "        arr.append(int((current_date - start_date).total_seconds()) - arr[i-1])\n",
    "        i+=1\n",
    "    \n",
    "specific_opportinity = specific_opportinity.loc[:, [\"CreatedById\", \"Amount\", \"Probability\"]]\n",
    "specific_opportinity.insert(3, \"Duration\", res_arr)\n",
    "specific_opportinity.insert(4, \"DeltaDUration\", arr)"
   ],
   "execution_count": 15,
   "outputs": [
    {
     "name": "stdout",
     "output_type": "stream",
     "text": [
      "True\n"
     ]
    }
   ]
  },
  {
   "cell_type": "code",
   "execution_count": 16,
   "id": "ccf75c70",
   "metadata": {
    "scrolled": true
   },
   "outputs": [
    {
     "data": {
      "text/plain": "             CreatedById  Amount  Probability  Duration  DeltaDUration\n1701  0051B00000CkrTGQAZ  7200.0           80         0              0\n1710  0051B00000CkrTGQAZ  7200.0           80    495600         495600\n2528  0051B00000CkrTGQAZ  7200.0           80  32124780       31629180\n2560  0051B00000CkrTGQAZ  7200.0           80  33401160        1771980\n2561  0051B00000CkrTGQAZ  7200.0           80  33401280       31629300\n2562  0051B00000CkrTGQAZ  7200.0          100  33402000        1772700\n3876  0051B00000CkrTGQAZ  7200.0          100  63236760       61464060\n3877  0051B00000CkrTGQAZ  7200.0          100  63237060        1773000",
      "text/html": "<div>\n<style scoped>\n    .dataframe tbody tr th:only-of-type {\n        vertical-align: middle;\n    }\n\n    .dataframe tbody tr th {\n        vertical-align: top;\n    }\n\n    .dataframe thead th {\n        text-align: right;\n    }\n</style>\n<table border=\"1\" class=\"dataframe\">\n  <thead>\n    <tr style=\"text-align: right;\">\n      <th></th>\n      <th>CreatedById</th>\n      <th>Amount</th>\n      <th>Probability</th>\n      <th>Duration</th>\n      <th>DeltaDUration</th>\n    </tr>\n  </thead>\n  <tbody>\n    <tr>\n      <th>1701</th>\n      <td>0051B00000CkrTGQAZ</td>\n      <td>7200.0</td>\n      <td>80</td>\n      <td>0</td>\n      <td>0</td>\n    </tr>\n    <tr>\n      <th>1710</th>\n      <td>0051B00000CkrTGQAZ</td>\n      <td>7200.0</td>\n      <td>80</td>\n      <td>495600</td>\n      <td>495600</td>\n    </tr>\n    <tr>\n      <th>2528</th>\n      <td>0051B00000CkrTGQAZ</td>\n      <td>7200.0</td>\n      <td>80</td>\n      <td>32124780</td>\n      <td>31629180</td>\n    </tr>\n    <tr>\n      <th>2560</th>\n      <td>0051B00000CkrTGQAZ</td>\n      <td>7200.0</td>\n      <td>80</td>\n      <td>33401160</td>\n      <td>1771980</td>\n    </tr>\n    <tr>\n      <th>2561</th>\n      <td>0051B00000CkrTGQAZ</td>\n      <td>7200.0</td>\n      <td>80</td>\n      <td>33401280</td>\n      <td>31629300</td>\n    </tr>\n    <tr>\n      <th>2562</th>\n      <td>0051B00000CkrTGQAZ</td>\n      <td>7200.0</td>\n      <td>100</td>\n      <td>33402000</td>\n      <td>1772700</td>\n    </tr>\n    <tr>\n      <th>3876</th>\n      <td>0051B00000CkrTGQAZ</td>\n      <td>7200.0</td>\n      <td>100</td>\n      <td>63236760</td>\n      <td>61464060</td>\n    </tr>\n    <tr>\n      <th>3877</th>\n      <td>0051B00000CkrTGQAZ</td>\n      <td>7200.0</td>\n      <td>100</td>\n      <td>63237060</td>\n      <td>1773000</td>\n    </tr>\n  </tbody>\n</table>\n</div>"
     },
     "execution_count": 16,
     "metadata": {},
     "output_type": "execute_result"
    }
   ],
   "source": [
    "specific_opportinity.drop_duplicates(subset=['Duration'], inplace=True)\n",
    "specific_opportinity"
   ]
  },
  {
   "cell_type": "code",
   "execution_count": 34,
   "id": "98528676",
   "metadata": {},
   "outputs": [
    {
     "data": {
      "text/plain": [
       "<AxesSubplot:>"
      ]
     },
     "execution_count": 34,
     "metadata": {},
     "output_type": "execute_result"
    },
    {
     "data": {
      "image/png": "[encoded data removed]",
      "text/plain": [
       "<Figure size 432x288 with 2 Axes>"
      ]
     },
     "metadata": {
      "needs_background": "light"
     },
     "output_type": "display_data"
    }
   ],
   "source": [
    "sns.heatmap(specific_opportinity.corr('pearson'), annot=True, fmt='.2f')"
   ]
  },
  {
   "cell_type": "code",
   "execution_count": 25,
   "id": "35a7f5c0",
   "metadata": {},
   "outputs": [],
   "source": [
    "#sns.barplot(x=\"Duration\", y=\"Probability\", data=specific_opportinity)\n",
    "#sns.scatterplot(x=\"Duration\", y=\"Probability\", data=specific_opportinity)\n",
    "\n",
    "regressor = RandomForestRegressor(n_estimators=500, random_state=0)"
   ]
  },
  {
   "cell_type": "code",
   "execution_count": 35,
   "id": "fec05020",
   "metadata": {},
   "outputs": [
    {
     "name": "stdout",
     "output_type": "stream",
     "text": [
      "score ->  0.9387946666666668\n"
     ]
    },
    {
     "data": {
      "image/png": "[encoded data removed]",
      "text/plain": [
       "<Figure size 1440x504 with 1 Axes>"
      ]
     },
     "metadata": {
      "needs_background": "light"
     },
     "output_type": "display_data"
    }
   ],
   "source": [
    "plt.figure(figsize=(20,7))\n",
    "X = specific_opportinity['Duration'].values[:,np.newaxis]\n",
    "# target data is array of shape (n,) \n",
    "y = specific_opportinity['Probability'].values\n",
    "\n",
    "regressor.fit(X, y)\n",
    "\n",
    "y_prediction_forest = regressor.predict(X)\n",
    "sns.scatterplot(x=specific_opportinity['Duration'], y = y)\n",
    "sns.lineplot(x=specific_opportinity['Duration'], y = y_prediction_forest)\n",
    "\n",
    "print('score -> ', regressor.score(X, y))"
   ]
  },
  {
   "cell_type": "code",
   "execution_count": null,
   "id": "c1994048",
   "metadata": {},
   "outputs": [],
   "source": []
  }
 ],
 "metadata": {
  "kernelspec": {
   "display_name": "Python 3 (ipykernel)",
   "language": "python",
   "name": "python3"
  },
  "language_info": {
   "codemirror_mode": {
    "name": "ipython",
    "version": 3
   },
   "file_extension": ".py",
   "mimetype": "text/x-python",
   "name": "python",
   "nbconvert_exporter": "python",
   "pygments_lexer": "ipython3",
   "version": "3.8.12"
  }
 },
 "nbformat": 4,
 "nbformat_minor": 5
}