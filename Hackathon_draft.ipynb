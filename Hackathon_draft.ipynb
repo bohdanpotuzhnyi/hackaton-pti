{
 "cells": [
  {
   "cell_type": "markdown",
   "id": "8e246693",
   "metadata": {},
   "source": [
    "Data provided hold the historical records of Opportunities (a potential deal with client). Opportunity is presented by the following (main) columns (properties): OpportunityId - to identify a separate Opportunity uniquely, CreatedDate - the date of the record creation, StageName - probability and the short stage description for a successful deal closing (100% Opportunity) Amount - (a current corrected version of) sum of the (potential) deal // ??? CloseDate - forecasted deal closing date Probability - the probability of success for this opportunity at its current stage other fields - properties of the Opportunity\n",
    "\n",
    "You have the history of interactions with clients (Opportunity is a potential deal).\n",
    "You should forecast the Probability of successful deal (Opportunity) closing.\n",
    "Speaking more precisely, to forecast most likely next Probability using the known previous history for this Opportunity (potential deal), namely Stage + Probability changes in previous time.\n",
    "Also you could use available properties of that Opportunity"
   ]
  },
  {
   "cell_type": "code",
   "execution_count": 420,
   "id": "380bf5dd",
   "metadata": {},
   "outputs": [
    {
     "name": "stdout",
     "output_type": "stream",
     "text": [
      "2.8.0\n"
     ]
    }
   ],
   "source": [
    "import pandas as pd\n",
    "pd.plotting.register_matplotlib_converters()\n",
    "import matplotlib.pyplot as plt\n",
    "%matplotlib inline\n",
    "import seaborn as sns\n",
    "import numpy as np\n",
    "import tensorflow as tf\n",
    "from tensorflow import keras\n",
    "from sklearn.ensemble import RandomForestRegressor\n",
    "from datetime import datetime\n",
    "\n",
    "print(tf.__version__)"
   ]
  },
  {
   "cell_type": "code",
   "execution_count": 421,
   "id": "02f08620",
   "metadata": {},
   "outputs": [
    {
     "name": "stderr",
     "output_type": "stream",
     "text": [
      "C:\\Users\\Bohdan Potuzhnyi\\AppData\\Local\\Temp\\ipykernel_18960\\1806839911.py:1: DtypeWarning: Columns (14,32) have mixed types. Specify dtype option on import or set low_memory=False.\n",
      "  df = pd.read_csv(\"train_data.csv\")\n"
     ]
    }
   ],
   "source": [
    "df = pd.read_csv(\"train_data.csv\")\n",
    "dfe = pd.read_csv(\"test_data_full.csv\")"
   ]
  },
  {
   "cell_type": "code",
   "execution_count": 422,
   "id": "9bf7b803",
   "metadata": {},
   "outputs": [
    {
     "data": {
      "text/plain": "Unnamed: 0                             0\nId                                     0\nOpportunityId                          0\nCreatedById                            0\nCreatedDate                            0\nCreatedDateForInsert                   0\nStageName                              0\nAmount                                 0\nProbability                            0\nPrevOpportunityStageUpdate             0\nValidThroughDate                    6954\nSystemModstamp                         0\nIsDeleted                              0\nPrevAmount                         28705\nPrevCloseDate                      27916\nAccountId                              0\nRecordTypeId                        1704\nStageSortOrder                         0\nType                                   3\nLeadSource                          5536\nCampaignId                             0\nOwnerId                                0\nTerritory2Id                           0\nFiscalYear                             0\nFiscalQuarter                          0\nContactId                              0\nPartnerAccountId                     626\nNumber_of_Seats__c                  3220\nSCC_Interest__c                        0\nCompany_s_CRM_Type__c               8293\nDeal_type__c                        8625\nNeeds__c                           22493\nType_of_Users__c                   32616\nTAM__c                              1873\nSecondary_CSM__c                    2238\nSource_Type__c                     10396\nOriginal_Lead_Source__c             7715\nOriginal_Lead_Source_Details__c    10221\ndtype: int64"
     },
     "execution_count": 422,
     "metadata": {},
     "output_type": "execute_result"
    }
   ],
   "source": [
    "missing_values_count = df.isnull().sum()\n",
    "missing_values_count"
   ]
  },
  {
   "cell_type": "code",
   "execution_count": 423,
   "id": "8a5874d2",
   "metadata": {
    "scrolled": true
   },
   "outputs": [
    {
     "name": "stderr",
     "output_type": "stream",
     "text": [
      "C:\\Users\\Bohdan Potuzhnyi\\AppData\\Local\\Temp\\ipykernel_18960\\3667763167.py:2: UserWarning: Boolean Series key will be reindexed to match DataFrame index.\n",
      "  datae = dfe[df['StageName'].str.contains('100%') | df['StageName'].str.contains('0% prob')]\n",
      "C:\\Users\\Bohdan Potuzhnyi\\AppData\\Local\\Temp\\ipykernel_18960\\3667763167.py:4: SettingWithCopyWarning: \n",
      "A value is trying to be set on a copy of a slice from a DataFrame.\n",
      "Try using .loc[row_indexer,col_indexer] = value instead\n",
      "\n",
      "See the caveats in the documentation: https://pandas.pydata.org/pandas-docs/stable/user_guide/indexing.html#returning-a-view-versus-a-copy\n",
      "  data.StageName = data.StageName.apply(lambda x: '1' if '100' in x else '0')\n",
      "C:\\Users\\Bohdan Potuzhnyi\\AppData\\Local\\Temp\\ipykernel_18960\\3667763167.py:5: SettingWithCopyWarning: \n",
      "A value is trying to be set on a copy of a slice from a DataFrame.\n",
      "Try using .loc[row_indexer,col_indexer] = value instead\n",
      "\n",
      "See the caveats in the documentation: https://pandas.pydata.org/pandas-docs/stable/user_guide/indexing.html#returning-a-view-versus-a-copy\n",
      "  datae.StageName = datae.StageName.apply(lambda x: '1' if '100' in x else '0')\n"
     ]
    }
   ],
   "source": [
    "data = df[df['StageName'].str.contains('100%') | df['StageName'].str.contains('0% prob')]\n",
    "datae = dfe[df['StageName'].str.contains('100%') | df['StageName'].str.contains('0% prob')]\n",
    "\n",
    "data.StageName = data.StageName.apply(lambda x: '1' if '100' in x else '0')\n",
    "datae.StageName = datae.StageName.apply(lambda x: '1' if '100' in x else '0')\n"
   ]
  },
  {
   "cell_type": "code",
   "execution_count": 424,
   "id": "37927834",
   "metadata": {
    "collapsed": false,
    "jupyter": {
     "outputs_hidden": false
    },
    "pycharm": {
     "name": "#%%\n"
    }
   },
   "outputs": [
    {
     "data": {
      "text/plain": "<AxesSubplot:>"
     },
     "execution_count": 424,
     "metadata": {},
     "output_type": "execute_result"
    },
    {
     "data": {
      "text/plain": "<Figure size 432x288 with 1 Axes>",
      "image/png": "[encoded data removed]"
     },
     "metadata": {
      "needs_background": "light"
     },
     "output_type": "display_data"
    }
   ],
   "source": [
    "series = data.groupby(\"OpportunityId\").OpportunityId.count()\n",
    "series.sort_values(inplace=True)\n",
    "series.head(3000)\n",
    "series.value_counts().plot(kind = 'barh')\n",
    "#opportunity_all = series[\"OpportunityId\"]"
   ]
  },
  {
   "cell_type": "code",
   "execution_count": 425,
   "outputs": [
    {
     "name": "stdout",
     "output_type": "stream",
     "text": [
      "77\n"
     ]
    }
   ],
   "source": [
    "print(series[-1])"
   ],
   "metadata": {
    "collapsed": false,
    "pycharm": {
     "name": "#%%\n"
    }
   }
  },
  {
   "cell_type": "code",
   "execution_count": 426,
   "id": "894415b2",
   "metadata": {
    "collapsed": false,
    "jupyter": {
     "outputs_hidden": false
    },
    "pycharm": {
     "name": "#%%\n"
    }
   },
   "outputs": [],
   "source": [
    "all_opportunities = []\n",
    "opp_longest = series[-1]\n",
    "\n",
    "all_opor_e = []\n",
    "\n",
    "#used to fulfill np.array to be with max length\n",
    "example_arr = []\n",
    "\n",
    "for index, row in data.iterrows():\n",
    "    #print(row)\n",
    "    all_opportunities.append(row[\"OpportunityId\"])\n",
    "all_opportunities = np.unique(all_opportunities)\n",
    "\n",
    "for index, row in datae.iterrows():\n",
    "    all_opor_e.append(row[\"OpportunityId\"])\n",
    "all_opor_e = np.unique(all_opor_e)\n",
    "#print(all_opportunities)"
   ]
  },
  {
   "cell_type": "code",
   "execution_count": null,
   "outputs": [],
   "source": [
    "#for each opportunity and not id\n",
    "#def\n",
    "#here\n",
    "#\n",
    "#[license, service, upgrade, renewal, oem, global, new customer]\n",
    "type_array = [0, 0, 0, 0, 0, 0, 0]\n",
    "############\n",
    "all_types = np.unique(data[\"Type\"])\n",
    "\n",
    "\n",
    "\n",
    "############\n",
    "\n"
   ],
   "metadata": {
    "collapsed": false,
    "pycharm": {
     "name": "#%%\n"
    }
   }
  },
  {
   "cell_type": "code",
   "execution_count": 442,
   "id": "97947a27",
   "metadata": {
    "pycharm": {
     "name": "#%%\n"
    }
   },
   "outputs": [
    {
     "ename": "ValueError",
     "evalue": "Length of values (1) does not match length of index (2)",
     "output_type": "error",
     "traceback": [
      "\u001B[1;31m---------------------------------------------------------------------------\u001B[0m",
      "\u001B[1;31mValueError\u001B[0m                                Traceback (most recent call last)",
      "Input \u001B[1;32mIn [442]\u001B[0m, in \u001B[0;36m<module>\u001B[1;34m\u001B[0m\n\u001B[0;32m     29\u001B[0m     i\u001B[38;5;241m+\u001B[39m\u001B[38;5;241m=\u001B[39m\u001B[38;5;241m1\u001B[39m\n\u001B[0;32m     31\u001B[0m specific_opportinity \u001B[38;5;241m=\u001B[39m specific_opportinity\u001B[38;5;241m.\u001B[39mloc[:, [\u001B[38;5;124m\"\u001B[39m\u001B[38;5;124mAmount\u001B[39m\u001B[38;5;124m\"\u001B[39m, \u001B[38;5;124m\"\u001B[39m\u001B[38;5;124mProbability\u001B[39m\u001B[38;5;124m\"\u001B[39m]]\n\u001B[1;32m---> 32\u001B[0m \u001B[43mspecific_opportinity\u001B[49m\u001B[38;5;241;43m.\u001B[39;49m\u001B[43minsert\u001B[49m\u001B[43m(\u001B[49m\u001B[38;5;241;43m2\u001B[39;49m\u001B[43m,\u001B[49m\u001B[43m \u001B[49m\u001B[38;5;124;43m\"\u001B[39;49m\u001B[38;5;124;43mDuration\u001B[39;49m\u001B[38;5;124;43m\"\u001B[39;49m\u001B[43m,\u001B[49m\u001B[43m \u001B[49m\u001B[43mres_arr\u001B[49m\u001B[43m)\u001B[49m\n\u001B[0;32m     33\u001B[0m specific_opportinity\u001B[38;5;241m.\u001B[39minsert(\u001B[38;5;241m3\u001B[39m, \u001B[38;5;124m\"\u001B[39m\u001B[38;5;124mDeltaDuration\u001B[39m\u001B[38;5;124m\"\u001B[39m, arr)\n\u001B[0;32m     34\u001B[0m final_probability \u001B[38;5;241m=\u001B[39m specific_opportinity\u001B[38;5;241m.\u001B[39miloc[\u001B[38;5;241m-\u001B[39m\u001B[38;5;241m1\u001B[39m, specific_opportinity\u001B[38;5;241m.\u001B[39mcolumns\u001B[38;5;241m.\u001B[39mget_loc(\u001B[38;5;124m'\u001B[39m\u001B[38;5;124mProbability\u001B[39m\u001B[38;5;124m'\u001B[39m)]\n",
      "File \u001B[1;32mD:\\dev_programs\\Python\\Python310\\lib\\site-packages\\pandas\\core\\frame.py:4446\u001B[0m, in \u001B[0;36mDataFrame.insert\u001B[1;34m(self, loc, column, value, allow_duplicates)\u001B[0m\n\u001B[0;32m   4443\u001B[0m \u001B[38;5;28;01mif\u001B[39;00m \u001B[38;5;129;01mnot\u001B[39;00m \u001B[38;5;28misinstance\u001B[39m(loc, \u001B[38;5;28mint\u001B[39m):\n\u001B[0;32m   4444\u001B[0m     \u001B[38;5;28;01mraise\u001B[39;00m \u001B[38;5;167;01mTypeError\u001B[39;00m(\u001B[38;5;124m\"\u001B[39m\u001B[38;5;124mloc must be int\u001B[39m\u001B[38;5;124m\"\u001B[39m)\n\u001B[1;32m-> 4446\u001B[0m value \u001B[38;5;241m=\u001B[39m \u001B[38;5;28;43mself\u001B[39;49m\u001B[38;5;241;43m.\u001B[39;49m\u001B[43m_sanitize_column\u001B[49m\u001B[43m(\u001B[49m\u001B[43mvalue\u001B[49m\u001B[43m)\u001B[49m\n\u001B[0;32m   4447\u001B[0m \u001B[38;5;28mself\u001B[39m\u001B[38;5;241m.\u001B[39m_mgr\u001B[38;5;241m.\u001B[39minsert(loc, column, value)\n",
      "File \u001B[1;32mD:\\dev_programs\\Python\\Python310\\lib\\site-packages\\pandas\\core\\frame.py:4537\u001B[0m, in \u001B[0;36mDataFrame._sanitize_column\u001B[1;34m(self, value)\u001B[0m\n\u001B[0;32m   4534\u001B[0m     \u001B[38;5;28;01mreturn\u001B[39;00m _reindex_for_setitem(value, \u001B[38;5;28mself\u001B[39m\u001B[38;5;241m.\u001B[39mindex)\n\u001B[0;32m   4536\u001B[0m \u001B[38;5;28;01mif\u001B[39;00m is_list_like(value):\n\u001B[1;32m-> 4537\u001B[0m     \u001B[43mcom\u001B[49m\u001B[38;5;241;43m.\u001B[39;49m\u001B[43mrequire_length_match\u001B[49m\u001B[43m(\u001B[49m\u001B[43mvalue\u001B[49m\u001B[43m,\u001B[49m\u001B[43m \u001B[49m\u001B[38;5;28;43mself\u001B[39;49m\u001B[38;5;241;43m.\u001B[39;49m\u001B[43mindex\u001B[49m\u001B[43m)\u001B[49m\n\u001B[0;32m   4538\u001B[0m \u001B[38;5;28;01mreturn\u001B[39;00m sanitize_array(value, \u001B[38;5;28mself\u001B[39m\u001B[38;5;241m.\u001B[39mindex, copy\u001B[38;5;241m=\u001B[39m\u001B[38;5;28;01mTrue\u001B[39;00m, allow_2d\u001B[38;5;241m=\u001B[39m\u001B[38;5;28;01mTrue\u001B[39;00m)\n",
      "File \u001B[1;32mD:\\dev_programs\\Python\\Python310\\lib\\site-packages\\pandas\\core\\common.py:557\u001B[0m, in \u001B[0;36mrequire_length_match\u001B[1;34m(data, index)\u001B[0m\n\u001B[0;32m    553\u001B[0m \u001B[38;5;124;03m\"\"\"\u001B[39;00m\n\u001B[0;32m    554\u001B[0m \u001B[38;5;124;03mCheck the length of data matches the length of the index.\u001B[39;00m\n\u001B[0;32m    555\u001B[0m \u001B[38;5;124;03m\"\"\"\u001B[39;00m\n\u001B[0;32m    556\u001B[0m \u001B[38;5;28;01mif\u001B[39;00m \u001B[38;5;28mlen\u001B[39m(data) \u001B[38;5;241m!=\u001B[39m \u001B[38;5;28mlen\u001B[39m(index):\n\u001B[1;32m--> 557\u001B[0m     \u001B[38;5;28;01mraise\u001B[39;00m \u001B[38;5;167;01mValueError\u001B[39;00m(\n\u001B[0;32m    558\u001B[0m         \u001B[38;5;124m\"\u001B[39m\u001B[38;5;124mLength of values \u001B[39m\u001B[38;5;124m\"\u001B[39m\n\u001B[0;32m    559\u001B[0m         \u001B[38;5;124mf\u001B[39m\u001B[38;5;124m\"\u001B[39m\u001B[38;5;124m(\u001B[39m\u001B[38;5;132;01m{\u001B[39;00m\u001B[38;5;28mlen\u001B[39m(data)\u001B[38;5;132;01m}\u001B[39;00m\u001B[38;5;124m) \u001B[39m\u001B[38;5;124m\"\u001B[39m\n\u001B[0;32m    560\u001B[0m         \u001B[38;5;124m\"\u001B[39m\u001B[38;5;124mdoes not match length of index \u001B[39m\u001B[38;5;124m\"\u001B[39m\n\u001B[0;32m    561\u001B[0m         \u001B[38;5;124mf\u001B[39m\u001B[38;5;124m\"\u001B[39m\u001B[38;5;124m(\u001B[39m\u001B[38;5;132;01m{\u001B[39;00m\u001B[38;5;28mlen\u001B[39m(index)\u001B[38;5;132;01m}\u001B[39;00m\u001B[38;5;124m)\u001B[39m\u001B[38;5;124m\"\u001B[39m\n\u001B[0;32m    562\u001B[0m     )\n",
      "\u001B[1;31mValueError\u001B[0m: Length of values (1) does not match length of index (2)"
     ]
    }
   ],
   "source": [
    "all_opportunities_array = []\n",
    "final_probability_array = []\n",
    "\n",
    "for opportunity in all_opportunities:\n",
    "    opp_id = opportunity\n",
    "    specific_opportinity = data.loc[(data.OpportunityId == opp_id)]\n",
    "\n",
    "    specific_opportinity = specific_opportinity.sort_values(by=\"CreatedDateForInsert\", ascending=True)\n",
    "\n",
    "    start_date = specific_opportinity.loc[specific_opportinity.index[0], \"CreatedDate\"]\n",
    "    start_date = datetime.strptime(start_date, '%m/%d/%Y %H:%M')\n",
    "\n",
    "    res_arr = []\n",
    "    time_filler = []\n",
    "    arr = []\n",
    "    i = 0\n",
    "    for current in specific_opportinity[\"CreatedDateForInsert\"]:\n",
    "        current_date = datetime.strptime(current, '%m/%d/%Y %H:%M')\n",
    "        res_arr.append(int((current_date - start_date).days))\n",
    "        if i == 0:\n",
    "            arr.append(int((current_date - start_date).days))\n",
    "            i+=1\n",
    "        else:\n",
    "            arr.append(int((current_date - start_date).days) - arr[i-1])\n",
    "            i+=1\n",
    "\n",
    "        time_filler = np.ones(specific_opportinity.count) * 0.0\n",
    "        arr_temp = np.append(arr,time_filler)\n",
    "\n",
    "        specific_opportinity = specific_opportinity.loc[:, [\"Amount\", \"Probability\"]]\n",
    "        specific_opportinity.insert(2, \"Duration\", res_arr)\n",
    "        specific_opportinity.insert(3, \"DeltaDuration\", arr)\n",
    "        final_probability = specific_opportinity.iloc[-1, specific_opportinity.columns.get_loc('Probability')]\n",
    "        final_probability_array.append(final_probability)\n",
    "        #print(final_probability)\n",
    "        opp_array = np.array(specific_opportinity.iloc[-80:]).flatten()\n",
    "        #print(opp_array)\n",
    "        padding = np.ones(100) * 0.0\n",
    "        op_ar_new = np.append(padding,opp_array)\n",
    "        opp_array = op_ar_new[-80:]\n",
    "        all_opportunities_array.append(opp_array)\n",
    "        i+=1\n",
    "\n",
    "\n",
    "\n",
    "all_opp_e_f = []\n",
    "fl_prob_e_f = []\n",
    "\n",
    "for opportunity in all_opor_e:\n",
    "    opp_id = opportunity\n",
    "    specific_opportinity = datae.loc[(datae.OpportunityId == opp_id)]\n",
    "\n",
    "    specific_opportinity = specific_opportinity.sort_values(by=\"CreatedDateForInsert\", ascending=True)\n",
    "\n",
    "    start_date = specific_opportinity.loc[specific_opportinity.index[0], \"CreatedDate\"]\n",
    "    start_date = datetime.strptime(start_date, '%m/%d/%Y %H:%M')\n",
    "\n",
    "    res_arr = []\n",
    "    arr = []\n",
    "    i = 0\n",
    "    for current in specific_opportinity[\"CreatedDateForInsert\"]:\n",
    "        current_date = datetime.strptime(current, '%Y-%m-%d %H:%M:%S')\n",
    "        res_arr.append(int((current_date - start_date).days))\n",
    "        if i == 0:\n",
    "            arr.append(int((current_date - start_date).days))\n",
    "            i+=1\n",
    "        else:\n",
    "            arr.append(int((current_date - start_date).days) - arr[i-1])\n",
    "            i+=1\n",
    "\n",
    "    specific_opportinity = specific_opportinity.loc[:, [\"Amount\", \"Probability\"]]\n",
    "    specific_opportinity.insert(2, \"Duration\", res_arr)\n",
    "    specific_opportinity.insert(3, \"DeltaDuration\", arr)\n",
    "    final_probability = specific_opportinity.iloc[-1, specific_opportinity.columns.get_loc('Probability')]\n",
    "    fl_prob_e_f.append(final_probability)\n",
    "\n",
    "    opp_array = np.array(specific_opportinity.iloc[-20:]).flatten()\n",
    "\n",
    "    padding = np.ones(100) * 0.0\n",
    "    op_ar_new = np.append(padding,opp_array)\n",
    "    opp_array = op_ar_new[-80:]\n",
    "    all_opp_e_f.append(opp_array)\n",
    "\n"
   ]
  },
  {
   "cell_type": "code",
   "execution_count": 428,
   "outputs": [],
   "source": [
    "all_opportunities_array1 = np.asarray(all_opportunities_array)\n",
    "final_probability_array1 = np.asarray(final_probability_array)\n",
    "\n",
    "all_opor_e_f1 = np.asarray(all_opp_e_f)\n",
    "fl_prob_e_f1 = np.asarray(fl_prob_e_f)"
   ],
   "metadata": {
    "collapsed": false,
    "pycharm": {
     "name": "#%%\n"
    }
   }
  },
  {
   "cell_type": "code",
   "execution_count": 429,
   "outputs": [
    {
     "name": "stdout",
     "output_type": "stream",
     "text": [
      "[  0.   0.   0.   0.   0.   0.   0.   0.   0.   0.   0.   0.   0.   0.\n",
      "   0.   0.   0.   0.   0.   0.   0.   0.   0.   0.   0.   0.   0.   0.\n",
      "   0.   0.   0.   0.   0.   0.   0.   0.   0.   0.   0.   0.   0.   0.\n",
      "   0.   0.   0.   0.   0.   0.   0.   0.   0.   0.   0.   0.   0.   0.\n",
      "   0.   0.   0.   0.   0.   0.   0.   0.   0.   0.   0.   0.   0.   0.\n",
      "   0.   0.   0. 100.   0.   0.   0.   0.  88.  88.]\n",
      "[[   0.    0.    0. ...    0.   35.   14.]\n",
      " [   0.    0.    0. ...    0. 2169. 2124.]\n",
      " [   0.    0.    0. ...    0.  113.   12.]\n",
      " ...\n",
      " [   0.    0.    0. ...    0.   40.   40.]\n",
      " [   0.    0.    0. ...    0.  647.  647.]\n",
      " [   0.    0.    0. ...    0.  616.  616.]]\n"
     ]
    }
   ],
   "source": [
    "print(all_opportunities_array1[0])\n",
    "print(all_opor_e_f1)"
   ],
   "metadata": {
    "collapsed": false,
    "pycharm": {
     "name": "#%%\n"
    }
   }
  },
  {
   "cell_type": "code",
   "execution_count": 439,
   "outputs": [
    {
     "name": "stdout",
     "output_type": "stream",
     "text": [
      "Model: \"model_17\"\n",
      "_________________________________________________________________\n",
      " Layer (type)                Output Shape              Param #   \n",
      "=================================================================\n",
      " input_18 (InputLayer)       [(None, 80)]              0         \n",
      "                                                                 \n",
      " dense_51 (Dense)            (None, 32)                2592      \n",
      "                                                                 \n",
      " dense_52 (Dense)            (None, 32)                1056      \n",
      "                                                                 \n",
      " dense_53 (Dense)            (None, 101)               3333      \n",
      "                                                                 \n",
      "=================================================================\n",
      "Total params: 6,981\n",
      "Trainable params: 6,981\n",
      "Non-trainable params: 0\n",
      "_________________________________________________________________\n"
     ]
    }
   ],
   "source": [
    "def base_model():\n",
    "  inputs = tf.keras.Input(shape=(80,))\n",
    "  x = tf.keras.layers.Dense(32, activation='relu')(inputs)\n",
    "  x = tf.keras.layers.Dense(32, activation='relu')(x)\n",
    "  outputs = tf.keras.layers.Dense(101, activation='softmax')(x)\n",
    "  model = tf.keras.Model(inputs=inputs, outputs=outputs)\n",
    "  return model\n",
    "\n",
    "optimizer = tf.keras.optimizers.Adam(learning_rate=0.1)\n",
    "loss_object = tf.keras.losses.SparseCategoricalCrossentropy()\n",
    "model = base_model()\n",
    "model.compile(optimizer=optimizer, loss=loss_object, metrics=[tf.keras.metrics.RootMeanSquaredError()])\n",
    "model.summary()"
   ],
   "metadata": {
    "collapsed": false,
    "pycharm": {
     "name": "#%%\n"
    }
   }
  },
  {
   "cell_type": "code",
   "execution_count": 431,
   "outputs": [],
   "source": [
    "def train_step(x, y):\n",
    "  with tf.GradientTape() as tape:\n",
    "    pred = model(x)\n",
    "    loss = model.compiled_loss(y, pred)\n",
    "    gradients = tape.gradient(loss, model.trainable_variables)\n",
    "    model.optimizer.apply_gradients(zip(gradients, model.trainable_variables))\n",
    "  return tf.linalg.global_norm(gradients)"
   ],
   "metadata": {
    "collapsed": false,
    "pycharm": {
     "name": "#%%\n"
    }
   }
  },
  {
   "cell_type": "code",
   "execution_count": 432,
   "outputs": [],
   "source": [
    "\n",
    "def create_generator(list_of_arrays):\n",
    "    for i in list_of_arrays:\n",
    "        yield i\n"
   ],
   "metadata": {
    "collapsed": false,
    "pycharm": {
     "name": "#%%\n"
    }
   }
  },
  {
   "cell_type": "code",
   "execution_count": 433,
   "outputs": [],
   "source": [
    "dataset_opport = tf.data.Dataset.from_generator(lambda: create_generator(all_opportunities_array1),output_types= tf.int32, output_shapes=(80,))\n",
    "dataset_marks = tf.data.Dataset.from_generator(lambda: final_probability_array1,output_types= tf.int32, output_shapes=())\n",
    "\n",
    "dataset_test27 = tf.data.Dataset.zip((dataset_opport, dataset_marks)).batch(1)\n",
    "\n",
    "dataset_opport_e = tf.data.Dataset.from_generator(lambda: create_generator(all_opor_e_f1),output_types= tf.int32, output_shapes=(80,))\n",
    "dataset_marks_e = tf.data.Dataset.from_generator(lambda: fl_prob_e_f1,output_types= tf.int32, output_shapes=())\n",
    "\n",
    "dataset_test27_e = tf.data.Dataset.zip((dataset_opport_e, dataset_marks_e)).batch(1)"
   ],
   "metadata": {
    "collapsed": false,
    "pycharm": {
     "name": "#%%\n"
    }
   }
  },
  {
   "cell_type": "code",
   "execution_count": 434,
   "outputs": [
    {
     "name": "stdout",
     "output_type": "stream",
     "text": [
      "<BatchDataset element_spec=(TensorSpec(shape=(None, 80), dtype=tf.int32, name=None), TensorSpec(shape=(None,), dtype=tf.int32, name=None))>\n",
      "<BatchDataset element_spec=(TensorSpec(shape=(None, 80), dtype=tf.int32, name=None), TensorSpec(shape=(None,), dtype=tf.int32, name=None))>\n"
     ]
    }
   ],
   "source": [
    "print(dataset_test27)\n",
    "print(dataset_test27_e)"
   ],
   "metadata": {
    "collapsed": false,
    "pycharm": {
     "name": "#%%\n"
    }
   }
  },
  {
   "cell_type": "code",
   "execution_count": 435,
   "outputs": [
    {
     "name": "stdout",
     "output_type": "stream",
     "text": [
      "6065\n",
      "926\n",
      "tf.Tensor(\n",
      "[[  0   0   0   0   0   0   0   0   0   0   0   0   0   0   0   0   0   0\n",
      "    0   0   0   0   0   0   0   0   0   0   0   0   0   0   0   0   0   0\n",
      "    0   0   0   0   0   0   0   0   0   0   0   0   0   0   0   0   0   0\n",
      "    0   0   0   0   0   0   0   0   0   0   0   0   0   0   0   0   0   0\n",
      "    0 100   0   0   0   0  88  88]], shape=(1, 80), dtype=int32)\n",
      "tf.Tensor([0], shape=(1,), dtype=int32)\n",
      "<TakeDataset element_spec=(TensorSpec(shape=(None, 80), dtype=tf.int32, name=None), TensorSpec(shape=(None,), dtype=tf.int32, name=None))>\n",
      "<TakeDataset element_spec=(TensorSpec(shape=(None, 80), dtype=tf.int32, name=None), TensorSpec(shape=(None,), dtype=tf.int32, name=None))>\n"
     ]
    }
   ],
   "source": [
    "print(len(list(dataset_test27)))\n",
    "print(len(list(dataset_test27_e)))\n",
    "\n",
    "for x,y in dataset_test27.take(1):\n",
    "  print(x)\n",
    "  print(y)\n",
    "\n",
    "print(dataset_test27.take(1))\n",
    "print(dataset_test27_e.take(1))\n"
   ],
   "metadata": {
    "collapsed": false,
    "pycharm": {
     "name": "#%%\n"
    }
   }
  },
  {
   "cell_type": "code",
   "execution_count": 440,
   "outputs": [
    {
     "name": "stderr",
     "output_type": "stream",
     "text": [
      "6065it [00:57, 104.99it/s]\n"
     ]
    },
    {
     "name": "stdout",
     "output_type": "stream",
     "text": [
      "926/926 [==============================] - 1s 1ms/step - loss: 1.8365 - root_mean_squared_error: 71.6044\n",
      "validation loss = 1.8364754915237427, accuracy = 71.60444641113281:\n"
     ]
    },
    {
     "name": "stderr",
     "output_type": "stream",
     "text": [
      "6065it [01:01, 98.55it/s] \n"
     ]
    },
    {
     "name": "stdout",
     "output_type": "stream",
     "text": [
      "926/926 [==============================] - 1s 1ms/step - loss: 1.8372 - root_mean_squared_error: 71.6044\n",
      "validation loss = 1.8371754884719849, accuracy = 71.60444641113281:\n"
     ]
    },
    {
     "name": "stderr",
     "output_type": "stream",
     "text": [
      "6065it [01:08, 88.58it/s] "
     ]
    },
    {
     "name": "stdout",
     "output_type": "stream",
     "text": [
      "      1/Unknown - 0s 59ms/step - loss: 0.1532 - root_mean_squared_error: 0.0857"
     ]
    },
    {
     "name": "stderr",
     "output_type": "stream",
     "text": [
      "\n"
     ]
    },
    {
     "name": "stdout",
     "output_type": "stream",
     "text": [
      "926/926 [==============================] - 1s 1ms/step - loss: 1.8372 - root_mean_squared_error: 71.6044\n",
      "validation loss = 1.837174415588379, accuracy = 71.60444641113281:\n"
     ]
    },
    {
     "name": "stderr",
     "output_type": "stream",
     "text": [
      "6065it [00:59, 101.20it/s]"
     ]
    },
    {
     "name": "stdout",
     "output_type": "stream",
     "text": [
      "      1/Unknown - 0s 61ms/step - loss: 0.1532 - root_mean_squared_error: 0.0857"
     ]
    },
    {
     "name": "stderr",
     "output_type": "stream",
     "text": [
      "\n"
     ]
    },
    {
     "name": "stdout",
     "output_type": "stream",
     "text": [
      "926/926 [==============================] - 1s 1ms/step - loss: 1.8372 - root_mean_squared_error: 71.6044\n",
      "validation loss = 1.837174415588379, accuracy = 71.60444641113281:\n"
     ]
    },
    {
     "name": "stderr",
     "output_type": "stream",
     "text": [
      "6065it [00:55, 108.55it/s]"
     ]
    },
    {
     "name": "stdout",
     "output_type": "stream",
     "text": [
      "     47/Unknown - 0s 1ms/step - loss: 1.1403 - root_mean_squared_error: 63.5748"
     ]
    },
    {
     "name": "stderr",
     "output_type": "stream",
     "text": [
      "\n"
     ]
    },
    {
     "name": "stdout",
     "output_type": "stream",
     "text": [
      "926/926 [==============================] - 1s 1ms/step - loss: 1.8372 - root_mean_squared_error: 71.6044\n",
      "validation loss = 1.837174415588379, accuracy = 71.60444641113281:\n"
     ]
    }
   ],
   "source": [
    "from tqdm import tqdm\n",
    "epoch_num = 5\n",
    "grad_norm = []\n",
    "for epoch in range(epoch_num):\n",
    "  for step, (x,y) in enumerate(tqdm(dataset_test27)):\n",
    "    grad_norm.append(train_step(x,y))\n",
    "\n",
    "  loss, acc = model.evaluate(dataset_test27_e)\n",
    "  print(\"validation loss = {}, accuracy = {}:\".format(loss, acc))"
   ],
   "metadata": {
    "collapsed": false,
    "pycharm": {
     "name": "#%%\n"
    }
   }
  },
  {
   "cell_type": "code",
   "execution_count": 437,
   "outputs": [
    {
     "data": {
      "text/plain": "[<matplotlib.lines.Line2D at 0x2bbed333400>]"
     },
     "execution_count": 437,
     "metadata": {},
     "output_type": "execute_result"
    },
    {
     "data": {
      "text/plain": "<Figure size 432x288 with 1 Axes>",
      "image/png": "[encoded data removed]"
     },
     "metadata": {
      "needs_background": "light"
     },
     "output_type": "display_data"
    }
   ],
   "source": [
    "from matplotlib import rcParams\n",
    "rcParams['ytick.labelleft'] = True\n",
    "plt.plot(grad_norm)\n",
    "\n"
   ],
   "metadata": {
    "collapsed": false,
    "pycharm": {
     "name": "#%%\n"
    }
   }
  }
 ],
 "metadata": {
  "kernelspec": {
   "display_name": "Python 3 (ipykernel)",
   "language": "python",
   "name": "python3"
  },
  "language_info": {
   "codemirror_mode": {
    "name": "ipython",
    "version": 3
   },
   "file_extension": ".py",
   "mimetype": "text/x-python",
   "name": "python",
   "nbconvert_exporter": "python",
   "pygments_lexer": "ipython3",
   "version": "3.9.7"
  }
 },
 "nbformat": 4,
 "nbformat_minor": 5
}