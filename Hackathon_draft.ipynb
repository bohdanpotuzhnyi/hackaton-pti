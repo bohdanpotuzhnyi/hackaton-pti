{
 "cells": [
  {
   "cell_type": "markdown",
   "id": "8e246693",
   "metadata": {},
   "source": [
    "Data provided hold the historical records of Opportunities (a potential deal with client). Opportunity is presented by the following (main) columns (properties): OpportunityId - to identify a separate Opportunity uniquely, CreatedDate - the date of the record creation, StageName - probability and the short stage description for a successful deal closing (100% Opportunity) Amount - (a current corrected version of) sum of the (potential) deal // ??? CloseDate - forecasted deal closing date Probability - the probability of success for this opportunity at its current stage other fields - properties of the Opportunity\n",
    "\n",
    "You have the history of interactions with clients (Opportunity is a potential deal).\n",
    "You should forecast the Probability of successful deal (Opportunity) closing.\n",
    "Speaking more precisely, to forecast most likely next Probability using the known previous history for this Opportunity (potential deal), namely Stage + Probability changes in previous time.\n",
    "Also you could use available properties of that Opportunity"
   ]
  },
  {
   "cell_type": "code",
   "execution_count": 107,
   "id": "380bf5dd",
   "metadata": {},
   "outputs": [
    {
     "name": "stdout",
     "output_type": "stream",
     "text": [
      "2.8.0\n"
     ]
    }
   ],
   "source": [
    "import pandas as pd\n",
    "pd.plotting.register_matplotlib_converters()\n",
    "import matplotlib.pyplot as plt\n",
    "%matplotlib inline\n",
    "import seaborn as sns\n",
    "import numpy as np\n",
    "import tensorflow\n",
    "from tensorflow import keras\n",
    "from sklearn.ensemble import RandomForestRegressor\n",
    "from datetime import datetime\n",
    "\n",
    "print(tensorflow.__version__)"
   ]
  },
  {
   "cell_type": "code",
   "execution_count": 108,
   "id": "02f08620",
   "metadata": {},
   "outputs": [
    {
     "name": "stderr",
     "output_type": "stream",
     "text": [
      "C:\\Users\\Bohdan Potuzhnyi\\AppData\\Local\\Temp\\ipykernel_18960\\933231161.py:1: DtypeWarning: Columns (14,32) have mixed types. Specify dtype option on import or set low_memory=False.\n",
      "  df = pd.read_csv(\"train_data.csv\")\n"
     ]
    }
   ],
   "source": [
    "df = pd.read_csv(\"train_data.csv\")"
   ]
  },
  {
   "cell_type": "code",
   "execution_count": 109,
   "id": "9bf7b803",
   "metadata": {},
   "outputs": [
    {
     "data": {
      "text/plain": "Unnamed: 0                             0\nId                                     0\nOpportunityId                          0\nCreatedById                            0\nCreatedDate                            0\nCreatedDateForInsert                   0\nStageName                              0\nAmount                                 0\nProbability                            0\nPrevOpportunityStageUpdate             0\nValidThroughDate                    6954\nSystemModstamp                         0\nIsDeleted                              0\nPrevAmount                         28705\nPrevCloseDate                      27916\nAccountId                              0\nRecordTypeId                        1704\nStageSortOrder                         0\nType                                   3\nLeadSource                          5536\nCampaignId                             0\nOwnerId                                0\nTerritory2Id                           0\nFiscalYear                             0\nFiscalQuarter                          0\nContactId                              0\nPartnerAccountId                     626\nNumber_of_Seats__c                  3220\nSCC_Interest__c                        0\nCompany_s_CRM_Type__c               8293\nDeal_type__c                        8625\nNeeds__c                           22493\nType_of_Users__c                   32616\nTAM__c                              1873\nSecondary_CSM__c                    2238\nSource_Type__c                     10396\nOriginal_Lead_Source__c             7715\nOriginal_Lead_Source_Details__c    10221\ndtype: int64"
     },
     "execution_count": 109,
     "metadata": {},
     "output_type": "execute_result"
    }
   ],
   "source": [
    "missing_values_count = df.isnull().sum()\n",
    "missing_values_count"
   ]
  },
  {
   "cell_type": "code",
   "execution_count": 110,
   "id": "8a5874d2",
   "metadata": {
    "scrolled": true
   },
   "outputs": [
    {
     "name": "stderr",
     "output_type": "stream",
     "text": [
      "C:\\Users\\Bohdan Potuzhnyi\\AppData\\Local\\Temp\\ipykernel_18960\\2232586543.py:5: SettingWithCopyWarning: \n",
      "A value is trying to be set on a copy of a slice from a DataFrame.\n",
      "Try using .loc[row_indexer,col_indexer] = value instead\n",
      "\n",
      "See the caveats in the documentation: https://pandas.pydata.org/pandas-docs/stable/user_guide/indexing.html#returning-a-view-versus-a-copy\n",
      "  data.StageName = data.StageName.apply(lambda x: '1' if '100' in x else '0')\n"
     ]
    }
   ],
   "source": [
    "data = df[df['StageName'].str.contains('100%') | df['StageName'].str.contains('0% prob')]\n",
    "\n",
    "#print(data.loc[(data.OpportunityId == \"0061300001KubxZAAR\")])\n",
    "\n",
    "data.StageName = data.StageName.apply(lambda x: '1' if '100' in x else '0')\n",
    "\n"
   ]
  },
  {
   "cell_type": "code",
   "execution_count": 111,
   "id": "37927834",
   "metadata": {
    "collapsed": false,
    "jupyter": {
     "outputs_hidden": false
    },
    "pycharm": {
     "name": "#%%\n"
    }
   },
   "outputs": [
    {
     "data": {
      "text/plain": "<AxesSubplot:>"
     },
     "execution_count": 111,
     "metadata": {},
     "output_type": "execute_result"
    },
    {
     "data": {
      "text/plain": "<Figure size 432x288 with 1 Axes>",
      "image/png": "[encoded data removed]"
     },
     "metadata": {
      "needs_background": "light"
     },
     "output_type": "display_data"
    }
   ],
   "source": [
    "series = data.groupby(\"OpportunityId\").OpportunityId.count()\n",
    "series.sort_values(inplace=True)\n",
    "series.head(3000)\n",
    "series.value_counts().plot(kind = 'barh')\n",
    "#opportunity_all = series[\"OpportunityId\"]"
   ]
  },
  {
   "cell_type": "code",
   "execution_count": 112,
   "outputs": [
    {
     "name": "stdout",
     "output_type": "stream",
     "text": [
      "77\n"
     ]
    }
   ],
   "source": [
    "print(series[-1])"
   ],
   "metadata": {
    "collapsed": false,
    "pycharm": {
     "name": "#%%\n"
    }
   }
  },
  {
   "cell_type": "code",
   "execution_count": 113,
   "id": "894415b2",
   "metadata": {
    "collapsed": false,
    "jupyter": {
     "outputs_hidden": false
    },
    "pycharm": {
     "name": "#%%\n"
    }
   },
   "outputs": [],
   "source": [
    "all_opportunities = []\n",
    "opp_longest = series[-1]\n",
    "\n",
    "#used to fulfill np.array to be with max length\n",
    "example_arr = []\n",
    "\n",
    "for index, row in data.iterrows():\n",
    "    #print(row)\n",
    "    all_opportunities.append(row[\"OpportunityId\"])\n",
    "all_opportunities = np.unique(all_opportunities)\n",
    "#print(all_opportunities)"
   ]
  },
  {
   "cell_type": "code",
   "execution_count": 114,
   "id": "97947a27",
   "metadata": {
    "pycharm": {
     "name": "#%%\n"
    }
   },
   "outputs": [],
   "source": [
    "### In this part for each opportunity from series DF i will create Array with all data that we\n",
    "# get from functions described lower\n",
    "# Firstly i will create array with all opportunities\n",
    "\n",
    "\n",
    "#now create DF and convert it to array for each op from all opportunities and then push them all\n",
    "# to one array\n",
    "\n",
    "all_opportunities_array = []\n",
    "final_probability_array = []\n",
    "train_data_array = []\n",
    "for opportunity in all_opportunities:\n",
    "    opp_id = opportunity\n",
    "    specific_opportinity = data.loc[(data.OpportunityId == opp_id)]\n",
    "    #status = (specific_opportinity.loc[specific_opportinity.index[0], 'StageName'] == '1')\n",
    "    # 1-success\n",
    "    # 0-failure\n",
    "\n",
    "    #print(status)\n",
    "    specific_opportinity = specific_opportinity.sort_values(by=\"CreatedDateForInsert\", ascending=True)\n",
    "    #specific_opportinity\n",
    "\n",
    "    #print(specific_opportinity)\n",
    "    start_date = specific_opportinity.loc[specific_opportinity.index[0], \"CreatedDate\"]\n",
    "    start_date = datetime.strptime(start_date, '%m/%d/%Y %H:%M')\n",
    "\n",
    "    res_arr = []\n",
    "    arr = []\n",
    "    i = 0\n",
    "    for current in specific_opportinity[\"CreatedDateForInsert\"]:\n",
    "        current_date = datetime.strptime(current, '%m/%d/%Y %H:%M')\n",
    "        res_arr.append(int((current_date - start_date).days))\n",
    "        if i == 0:\n",
    "            arr.append(int((current_date - start_date).days))\n",
    "            i+=1\n",
    "        else:\n",
    "            arr.append(int((current_date - start_date).days) - arr[i-1])\n",
    "            i+=1\n",
    "\n",
    "    specific_opportinity = specific_opportinity.loc[:, [\"Amount\", \"Probability\"]]\n",
    "    specific_opportinity.insert(2, \"Duration\", res_arr)\n",
    "    specific_opportinity.insert(3, \"DeltaDuration\", arr)\n",
    "    final_probability = specific_opportinity.iloc[-1, specific_opportinity.columns.get_loc('Probability')]\n",
    "    final_probability_array.append(final_probability)\n",
    "    #print(final_probability)\n",
    "    opp_array = np.array(specific_opportinity.iloc[-20:]).flatten()\n",
    "    #print(opp_array)\n",
    "    padding = np.ones(100) * 0.0\n",
    "    op_ar_new = np.append(padding,opp_array)\n",
    "    opp_array = op_ar_new[-80:]\n",
    "    #print(opp_array)\n",
    "    all_opportunities_array.append(opp_array)\n",
    "    #opp_array_tensor = tensorflow.convert_to_tensor(opp_array)\n",
    "    #opp_array_tensor_\n",
    "    train_data_array.append([tensorflow.convert_to_tensor(opp_array), tensorflow.convert_to_tensor(final_probability)])\n",
    "    # train_data_array[0].append(tensorflow.convert_to_tensor(opp_array))\n",
    "    # train_data_array[1].append(tensorflow.convert_to_tensor(final_probability))\n",
    "#train_data = dict(zip(train_data_array[0], train_data_array[1]))\n",
    "###\n",
    "# Okay array created now time for normalization i will create array with size of 20 x number of columns, 20 is choosed because 99% ended in 20 steps, and for deals that not ended at that time we will get last 20 events which will have enough information to give us understanding about deal and how it is going, it's pretty similar to how facebook acts, it's only checking for your last actions and reactions.\n",
    "# after making this normalization i will be able to put this array in to tensor as series(20, columns) and than teach it\n",
    "# plans changed\n",
    "\n"
   ]
  },
  {
   "cell_type": "code",
   "execution_count": 115,
   "outputs": [],
   "source": [
    "#print(all_opportunities_array[:2])\n",
    "#print(final_probability_array[:2])\n",
    "\n",
    "all_opportunities_array1 = np.asarray(all_opportunities_array)\n",
    "final_probability_array1 = np.asarray(final_probability_array)\n",
    "#print(all_opportunities_array1[1])\n",
    "#print(final_probability_array1[1])\n",
    "#final_probability_array"
   ],
   "metadata": {
    "collapsed": false,
    "pycharm": {
     "name": "#%%\n"
    }
   }
  },
  {
   "cell_type": "code",
   "execution_count": 116,
   "outputs": [
    {
     "ename": "InvalidArgumentError",
     "evalue": "cannot compute Pack as input #1(zero-based) was expected to be a double tensor but is a int64 tensor [Op:Pack] name: 0",
     "output_type": "error",
     "traceback": [
      "\u001B[1;31m---------------------------------------------------------------------------\u001B[0m",
      "\u001B[1;31mInvalidArgumentError\u001B[0m                      Traceback (most recent call last)",
      "Input \u001B[1;32mIn [116]\u001B[0m, in \u001B[0;36m<module>\u001B[1;34m\u001B[0m\n\u001B[1;32m----> 1\u001B[0m train_data_tensor \u001B[38;5;241m=\u001B[39m \u001B[43mtensorflow\u001B[49m\u001B[38;5;241;43m.\u001B[39;49m\u001B[43mconvert_to_tensor\u001B[49m\u001B[43m(\u001B[49m\u001B[43mtrain_data_array\u001B[49m\u001B[43m)\u001B[49m\n\u001B[0;32m      2\u001B[0m train_data \u001B[38;5;241m=\u001B[39m tensorflow\u001B[38;5;241m.\u001B[39mdata\u001B[38;5;241m.\u001B[39mDataset\u001B[38;5;241m.\u001B[39mfrom_tensor_slices(train_data_tensor)\n\u001B[0;32m      3\u001B[0m \u001B[38;5;28mprint\u001B[39m(train_data[\u001B[38;5;241m0\u001B[39m])\n",
      "File \u001B[1;32mD:\\dev_programs\\Python\\Python310\\lib\\site-packages\\tensorflow\\python\\util\\traceback_utils.py:153\u001B[0m, in \u001B[0;36mfilter_traceback.<locals>.error_handler\u001B[1;34m(*args, **kwargs)\u001B[0m\n\u001B[0;32m    151\u001B[0m \u001B[38;5;28;01mexcept\u001B[39;00m \u001B[38;5;167;01mException\u001B[39;00m \u001B[38;5;28;01mas\u001B[39;00m e:\n\u001B[0;32m    152\u001B[0m   filtered_tb \u001B[38;5;241m=\u001B[39m _process_traceback_frames(e\u001B[38;5;241m.\u001B[39m__traceback__)\n\u001B[1;32m--> 153\u001B[0m   \u001B[38;5;28;01mraise\u001B[39;00m e\u001B[38;5;241m.\u001B[39mwith_traceback(filtered_tb) \u001B[38;5;28;01mfrom\u001B[39;00m \u001B[38;5;28mNone\u001B[39m\n\u001B[0;32m    154\u001B[0m \u001B[38;5;28;01mfinally\u001B[39;00m:\n\u001B[0;32m    155\u001B[0m   \u001B[38;5;28;01mdel\u001B[39;00m filtered_tb\n",
      "File \u001B[1;32mD:\\dev_programs\\Python\\Python310\\lib\\site-packages\\tensorflow\\python\\framework\\ops.py:7186\u001B[0m, in \u001B[0;36mraise_from_not_ok_status\u001B[1;34m(e, name)\u001B[0m\n\u001B[0;32m   7184\u001B[0m \u001B[38;5;28;01mdef\u001B[39;00m \u001B[38;5;21mraise_from_not_ok_status\u001B[39m(e, name):\n\u001B[0;32m   7185\u001B[0m   e\u001B[38;5;241m.\u001B[39mmessage \u001B[38;5;241m+\u001B[39m\u001B[38;5;241m=\u001B[39m (\u001B[38;5;124m\"\u001B[39m\u001B[38;5;124m name: \u001B[39m\u001B[38;5;124m\"\u001B[39m \u001B[38;5;241m+\u001B[39m name \u001B[38;5;28;01mif\u001B[39;00m name \u001B[38;5;129;01mis\u001B[39;00m \u001B[38;5;129;01mnot\u001B[39;00m \u001B[38;5;28;01mNone\u001B[39;00m \u001B[38;5;28;01melse\u001B[39;00m \u001B[38;5;124m\"\u001B[39m\u001B[38;5;124m\"\u001B[39m)\n\u001B[1;32m-> 7186\u001B[0m   \u001B[38;5;28;01mraise\u001B[39;00m core\u001B[38;5;241m.\u001B[39m_status_to_exception(e) \u001B[38;5;28;01mfrom\u001B[39;00m \u001B[38;5;28mNone\u001B[39m\n",
      "\u001B[1;31mInvalidArgumentError\u001B[0m: cannot compute Pack as input #1(zero-based) was expected to be a double tensor but is a int64 tensor [Op:Pack] name: 0"
     ]
    }
   ],
   "source": [
    "train_data_tensor = tensorflow.convert_to_tensor(train_data_array)\n",
    "train_data = tensorflow.data.Dataset.from_tensor_slices(train_data_tensor)\n",
    "print(train_data[0])\n",
    "train_data_batch = train_data.batch(64)"
   ],
   "metadata": {
    "collapsed": false,
    "pycharm": {
     "name": "#%%\n"
    }
   }
  },
  {
   "cell_type": "code",
   "execution_count": null,
   "outputs": [],
   "source": [],
   "metadata": {
    "collapsed": false,
    "pycharm": {
     "name": "#%%\n"
    }
   }
  },
  {
   "cell_type": "code",
   "execution_count": 169,
   "outputs": [],
   "source": [
    "def base_model():\n",
    "  inputs = tensorflow.keras.Input(shape=(80,))\n",
    "  x = tensorflow.keras.layers.Dense(32, activation='relu')(inputs)\n",
    "  x = tensorflow.keras.layers.Dense(32, activation='relu')(x)\n",
    "  outputs = tensorflow.keras.layers.Dense(101, activation='softmax')(x)\n",
    "  model = tensorflow.keras.Model(inputs=inputs, outputs=outputs)\n",
    "  return model"
   ],
   "metadata": {
    "collapsed": false,
    "pycharm": {
     "name": "#%%\n"
    }
   }
  },
  {
   "cell_type": "code",
   "execution_count": 170,
   "outputs": [
    {
     "name": "stdout",
     "output_type": "stream",
     "text": [
      "Model: \"model_9\"\n",
      "_________________________________________________________________\n",
      " Layer (type)                Output Shape              Param #   \n",
      "=================================================================\n",
      " input_10 (InputLayer)       [(None, 80)]              0         \n",
      "                                                                 \n",
      " dense_27 (Dense)            (None, 32)                2592      \n",
      "                                                                 \n",
      " dense_28 (Dense)            (None, 32)                1056      \n",
      "                                                                 \n",
      " dense_29 (Dense)            (None, 101)               3333      \n",
      "                                                                 \n",
      "=================================================================\n",
      "Total params: 6,981\n",
      "Trainable params: 6,981\n",
      "Non-trainable params: 0\n",
      "_________________________________________________________________\n"
     ]
    }
   ],
   "source": [
    "optimizer = tensorflow.keras.optimizers.Adam(learning_rate=0.07)\n",
    "loss_object = tensorflow.keras.losses.SparseCategoricalCrossentropy()\n",
    "model = base_model()\n",
    "model.compile(optimizer=optimizer, loss=loss_object, metrics=[tensorflow.keras.metrics.RootMeanSquaredError()])\n",
    "model.summary()"
   ],
   "metadata": {
    "collapsed": false,
    "pycharm": {
     "name": "#%%\n"
    }
   }
  },
  {
   "cell_type": "code",
   "execution_count": 170,
   "outputs": [],
   "source": [],
   "metadata": {
    "collapsed": false,
    "pycharm": {
     "name": "#%%\n"
    }
   }
  },
  {
   "cell_type": "code",
   "execution_count": 171,
   "outputs": [],
   "source": [
    "loss_grad = []\n",
    "pred_mod = []\n",
    "def train_step(x, y):\n",
    "  global loss_grad\n",
    "  with tensorflow.GradientTape() as tape:\n",
    "    pred = model(x)\n",
    "    pred_mod.append(pred)\n",
    "    loss = model.compiled_loss(y, pred)\n",
    "    loss_grad.append(loss)\n",
    "    gradients = tape.gradient(loss, model.trainable_variables)\n",
    "    model.optimizer.apply_gradients(zip(gradients, model.trainable_variables))\n",
    "  return tensorflow.linalg.global_norm(gradients)\n",
    "import tqdm\n",
    "epoch_num = 5\n",
    "grad_norm = []\n",
    "for epoch in range(epoch_num):\n",
    "  for i in range(final_probability_array1.size):\n",
    "    x = all_opportunities_array1[i]\n",
    "    x_t = tensorflow.convert_to_tensor(x)\n",
    "    x_tf = tensorflow.data.Dataset.from_tensors(x_t)\n",
    "    x_tfb = x_tf.batch(80)\n",
    "    x_final = 0\n",
    "    for step, (x_element) in enumerate(x_tfb):\n",
    "        x_final = x_element\n",
    "    y_a = []\n",
    "    y = final_probability_array1[i]\n",
    "    y_a.append(y)\n",
    "    y_at = tensorflow.convert_to_tensor(y_a)\n",
    "    # print(y_at)\n",
    "    # break\n",
    "    grad_norm.append(train_step(x_final,y_at))\n"
   ],
   "metadata": {
    "collapsed": false,
    "pycharm": {
     "name": "#%%\n"
    }
   }
  },
  {
   "cell_type": "code",
   "execution_count": 176,
   "outputs": [
    {
     "data": {
      "text/plain": "(0.2, 0.0)"
     },
     "execution_count": 176,
     "metadata": {},
     "output_type": "execute_result"
    },
    {
     "data": {
      "text/plain": "<Figure size 432x288 with 1 Axes>",
      "image/png": "[encoded data removed]"
     },
     "metadata": {
      "needs_background": "light"
     },
     "output_type": "display_data"
    }
   ],
   "source": [
    "from matplotlib import rcParams\n",
    "rcParams['ytick.labelleft'] = True\n",
    "plt.plot(grad_norm)\n",
    "plt.ylim(0.2, 0.0)\n",
    "\n"
   ],
   "metadata": {
    "collapsed": false,
    "pycharm": {
     "name": "#%%\n"
    }
   }
  },
  {
   "cell_type": "code",
   "execution_count": 173,
   "outputs": [
    {
     "data": {
      "text/plain": "(0.0, 10.0)"
     },
     "execution_count": 173,
     "metadata": {},
     "output_type": "execute_result"
    },
    {
     "data": {
      "text/plain": "<Figure size 432x288 with 1 Axes>",
      "image/png": "[encoded data removed]"
     },
     "metadata": {
      "needs_background": "light"
     },
     "output_type": "display_data"
    }
   ],
   "source": [
    "rcParams['ytick.labelleft'] = True\n",
    "plt.plot(loss_grad)\n",
    "plt.ylim(0, 10)"
   ],
   "metadata": {
    "collapsed": false,
    "pycharm": {
     "name": "#%%\n"
    }
   }
  },
  {
   "cell_type": "code",
   "execution_count": 162,
   "outputs": [
    {
     "name": "stdout",
     "output_type": "stream",
     "text": [
      "tf.Tensor(\n",
      "[[2.9831755e-01 3.1390006e-03 4.9641551e-07 4.2433547e-07 4.3794483e-07\n",
      "  6.3997302e-03 6.8034939e-07 7.1223485e-07 7.1226879e-07 7.1231705e-07\n",
      "  4.6250148e-05 5.3502271e-07 5.9143895e-07 6.4365059e-07 4.4504637e-07\n",
      "  2.8741162e-02 7.1228783e-07 7.1227356e-07 6.9839632e-07 7.1234012e-07\n",
      "  2.2170672e-05 7.1226401e-07 4.2284887e-07 7.1221717e-07 6.8023394e-07\n",
      "  4.5104633e-05 7.1225321e-07 7.1220086e-07 4.2517888e-07 4.2274203e-07\n",
      "  1.0416646e-02 4.8488465e-07 7.1155250e-07 1.9329409e-06 7.1221649e-07\n",
      "  7.1156950e-07 7.0590812e-07 7.1201339e-07 1.6822381e-05 5.7038807e-07\n",
      "  3.2467084e-05 6.9120637e-07 7.1225384e-07 7.1224639e-07 7.1177448e-07\n",
      "  4.4310588e-07 4.2287630e-07 7.1223144e-07 7.1220154e-07 7.1224838e-07\n",
      "  9.4278399e-03 4.9316882e-06 7.1077056e-07 4.2275090e-07 7.1220023e-07\n",
      "  7.1223144e-07 7.1222871e-07 7.0466717e-07 7.0886495e-07 7.1225520e-07\n",
      "  1.1136675e-04 7.1229999e-07 4.2343237e-07 3.0398148e-06 7.1221990e-07\n",
      "  6.5057918e-07 7.1218324e-07 7.1226196e-07 4.2928255e-07 6.8057460e-07\n",
      "  4.0805029e-05 1.5001570e-05 7.1223621e-07 7.1015324e-07 7.0520832e-07\n",
      "  1.8878449e-02 5.3874606e-07 4.2453138e-07 7.1031724e-07 3.2594762e-06\n",
      "  1.9241254e-01 4.2997090e-07 6.7871696e-07 7.0581120e-07 7.1221785e-07\n",
      "  7.1224434e-07 4.2279044e-07 7.1217437e-07 6.8605499e-07 7.1022708e-07\n",
      "  6.2915022e-03 1.6904352e-05 4.2990118e-07 7.1092308e-07 4.2849072e-07\n",
      "  4.4259275e-07 4.4499674e-07 7.1220427e-07 1.5161391e-05 5.4241769e-07\n",
      "  4.2555213e-01]], shape=(1, 101), dtype=float32)\n",
      "80\n"
     ]
    }
   ],
   "source": [
    "# rcParams['ytick.labelleft'] = True\n",
    "# plt.plot(pred)\n",
    "print(pred_mod[4200])\n",
    "\n",
    "print(final_probability_array[4200])"
   ],
   "metadata": {
    "collapsed": false,
    "pycharm": {
     "name": "#%%\n"
    }
   }
  },
  {
   "cell_type": "code",
   "execution_count": 145,
   "outputs": [],
   "source": [],
   "metadata": {
    "collapsed": false,
    "pycharm": {
     "name": "#%%\n"
    }
   }
  },
  {
   "cell_type": "code",
   "execution_count": null,
   "outputs": [],
   "source": [],
   "metadata": {
    "collapsed": false,
    "pycharm": {
     "name": "#%%\n"
    }
   }
  }
 ],
 "metadata": {
  "kernelspec": {
   "display_name": "Python 3 (ipykernel)",
   "language": "python",
   "name": "python3"
  },
  "language_info": {
   "codemirror_mode": {
    "name": "ipython",
    "version": 3
   },
   "file_extension": ".py",
   "mimetype": "text/x-python",
   "name": "python",
   "nbconvert_exporter": "python",
   "pygments_lexer": "ipython3",
   "version": "3.9.7"
  }
 },
 "nbformat": 4,
 "nbformat_minor": 5
}