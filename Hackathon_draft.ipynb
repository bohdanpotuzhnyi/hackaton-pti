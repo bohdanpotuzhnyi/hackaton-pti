{
 "cells": [
  {
   "cell_type": "markdown",
   "id": "8e246693",
   "metadata": {},
   "source": [
    "Data provided hold the historical records of Opportunities (a potential deal with client). Opportunity is presented by the following (main) columns (properties): OpportunityId - to identify a separate Opportunity uniquely, CreatedDate - the date of the record creation, StageName - probability and the short stage description for a successful deal closing (100% Opportunity) Amount - (a current corrected version of) sum of the (potential) deal // ??? CloseDate - forecasted deal closing date Probability - the probability of success for this opportunity at its current stage other fields - properties of the Opportunity\n",
    "\n",
    "You have the history of interactions with clients (Opportunity is a potential deal).\n",
    "You should forecast the Probability of successful deal (Opportunity) closing.\n",
    "Speaking more precisely, to forecast most likely next Probability using the known previous history for this Opportunity (potential deal), namely Stage + Probability changes in previous time.\n",
    "Also you could use available properties of that Opportunity"
   ]
  },
  {
   "cell_type": "code",
   "execution_count": 50,
   "id": "380bf5dd",
   "metadata": {},
   "outputs": [
    {
     "name": "stdout",
     "output_type": "stream",
     "text": [
      "2.8.0\n"
     ]
    }
   ],
   "source": [
    "import pandas as pd\n",
    "pd.plotting.register_matplotlib_converters()\n",
    "import matplotlib.pyplot as plt\n",
    "%matplotlib inline\n",
    "import seaborn as sns\n",
    "import numpy as np\n",
    "import tensorflow\n",
    "from tensorflow import keras\n",
    "from sklearn.ensemble import RandomForestRegressor\n",
    "from datetime import datetime\n",
    "\n",
    "print(tensorflow.__version__)"
   ]
  },
  {
   "cell_type": "code",
   "execution_count": 51,
   "id": "02f08620",
   "metadata": {},
   "outputs": [
    {
     "name": "stderr",
     "output_type": "stream",
     "text": [
      "C:\\Users\\Bohdan Potuzhnyi\\AppData\\Local\\Temp\\ipykernel_7728\\933231161.py:1: DtypeWarning: Columns (14,32) have mixed types. Specify dtype option on import or set low_memory=False.\n",
      "  df = pd.read_csv(\"train_data.csv\")\n"
     ]
    }
   ],
   "source": [
    "df = pd.read_csv(\"train_data.csv\")"
   ]
  },
  {
   "cell_type": "code",
   "execution_count": 52,
   "id": "9bf7b803",
   "metadata": {},
   "outputs": [
    {
     "data": {
      "text/plain": "Unnamed: 0                             0\nId                                     0\nOpportunityId                          0\nCreatedById                            0\nCreatedDate                            0\nCreatedDateForInsert                   0\nStageName                              0\nAmount                                 0\nProbability                            0\nPrevOpportunityStageUpdate             0\nValidThroughDate                    6954\nSystemModstamp                         0\nIsDeleted                              0\nPrevAmount                         28705\nPrevCloseDate                      27916\nAccountId                              0\nRecordTypeId                        1704\nStageSortOrder                         0\nType                                   3\nLeadSource                          5536\nCampaignId                             0\nOwnerId                                0\nTerritory2Id                           0\nFiscalYear                             0\nFiscalQuarter                          0\nContactId                              0\nPartnerAccountId                     626\nNumber_of_Seats__c                  3220\nSCC_Interest__c                        0\nCompany_s_CRM_Type__c               8293\nDeal_type__c                        8625\nNeeds__c                           22493\nType_of_Users__c                   32616\nTAM__c                              1873\nSecondary_CSM__c                    2238\nSource_Type__c                     10396\nOriginal_Lead_Source__c             7715\nOriginal_Lead_Source_Details__c    10221\ndtype: int64"
     },
     "execution_count": 52,
     "metadata": {},
     "output_type": "execute_result"
    }
   ],
   "source": [
    "missing_values_count = df.isnull().sum()\n",
    "missing_values_count"
   ]
  },
  {
   "cell_type": "code",
   "execution_count": 53,
   "id": "8a5874d2",
   "metadata": {
    "scrolled": true
   },
   "outputs": [
    {
     "name": "stderr",
     "output_type": "stream",
     "text": [
      "C:\\Users\\Bohdan Potuzhnyi\\AppData\\Local\\Temp\\ipykernel_7728\\2232586543.py:5: SettingWithCopyWarning: \n",
      "A value is trying to be set on a copy of a slice from a DataFrame.\n",
      "Try using .loc[row_indexer,col_indexer] = value instead\n",
      "\n",
      "See the caveats in the documentation: https://pandas.pydata.org/pandas-docs/stable/user_guide/indexing.html#returning-a-view-versus-a-copy\n",
      "  data.StageName = data.StageName.apply(lambda x: '1' if '100' in x else '0')\n"
     ]
    }
   ],
   "source": [
    "data = df[df['StageName'].str.contains('100%') | df['StageName'].str.contains('0% prob')]\n",
    "\n",
    "#print(data.loc[(data.OpportunityId == \"0061300001KubxZAAR\")])\n",
    "\n",
    "data.StageName = data.StageName.apply(lambda x: '1' if '100' in x else '0')\n",
    "\n"
   ]
  },
  {
   "cell_type": "code",
   "execution_count": 54,
   "id": "37927834",
   "metadata": {
    "collapsed": false,
    "jupyter": {
     "outputs_hidden": false
    },
    "pycharm": {
     "name": "#%%\n"
    }
   },
   "outputs": [
    {
     "data": {
      "text/plain": "<AxesSubplot:>"
     },
     "execution_count": 54,
     "metadata": {},
     "output_type": "execute_result"
    },
    {
     "data": {
      "text/plain": "<Figure size 432x288 with 1 Axes>",
      "image/png": "[encoded data removed]"
     },
     "metadata": {
      "needs_background": "light"
     },
     "output_type": "display_data"
    }
   ],
   "source": [
    "series = data.groupby(\"OpportunityId\").OpportunityId.count()\n",
    "series.sort_values(inplace=True)\n",
    "series.head(3000)\n",
    "series.value_counts().plot(kind = 'barh')\n",
    "#opportunity_all = series[\"OpportunityId\"]"
   ]
  },
  {
   "cell_type": "code",
   "execution_count": 55,
   "outputs": [
    {
     "name": "stdout",
     "output_type": "stream",
     "text": [
      "77\n"
     ]
    }
   ],
   "source": [
    "print(series[-1])"
   ],
   "metadata": {
    "collapsed": false,
    "pycharm": {
     "name": "#%%\n"
    }
   }
  },
  {
   "cell_type": "code",
   "execution_count": 56,
   "id": "894415b2",
   "metadata": {
    "collapsed": false,
    "jupyter": {
     "outputs_hidden": false
    },
    "pycharm": {
     "name": "#%%\n"
    }
   },
   "outputs": [],
   "source": [
    "all_opportunities = []\n",
    "opp_longest = series[-1]\n",
    "\n",
    "#used to fulfill np.array to be with max length\n",
    "example_arr = []\n",
    "\n",
    "for index, row in data.iterrows():\n",
    "    #print(row)\n",
    "    all_opportunities.append(row[\"OpportunityId\"])\n",
    "all_opportunities = np.unique(all_opportunities)\n",
    "#print(all_opportunities)"
   ]
  },
  {
   "cell_type": "code",
   "execution_count": 91,
   "id": "97947a27",
   "metadata": {
    "pycharm": {
     "name": "#%%\n"
    }
   },
   "outputs": [],
   "source": [
    "### In this part for each opportunity from series DF i will create Array with all data that we\n",
    "# get from functions described lower\n",
    "# Firstly i will create array with all opportunities\n",
    "\n",
    "\n",
    "#now create DF and convert it to array for each op from all opportunities and then push them all\n",
    "# to one array\n",
    "all_opportunities_array = []\n",
    "final_probability_array = []\n",
    "for opportunity in all_opportunities:\n",
    "    opp_id = opportunity\n",
    "    specific_opportinity = data.loc[(data.OpportunityId == opp_id)]\n",
    "    #status = (specific_opportinity.loc[specific_opportinity.index[0], 'StageName'] == '1')\n",
    "    # 1-success\n",
    "    # 0-failure\n",
    "\n",
    "    #print(status)\n",
    "    specific_opportinity = specific_opportinity.sort_values(by=\"CreatedDateForInsert\", ascending=True)\n",
    "    #specific_opportinity\n",
    "\n",
    "    #print(specific_opportinity)\n",
    "    start_date = specific_opportinity.loc[specific_opportinity.index[0], \"CreatedDate\"]\n",
    "    start_date = datetime.strptime(start_date, '%m/%d/%Y %H:%M')\n",
    "\n",
    "    res_arr = []\n",
    "    arr = []\n",
    "    i = 0\n",
    "    for current in specific_opportinity[\"CreatedDateForInsert\"]:\n",
    "        current_date = datetime.strptime(current, '%m/%d/%Y %H:%M')\n",
    "        res_arr.append(int((current_date - start_date).days))\n",
    "        if i == 0:\n",
    "            arr.append(int((current_date - start_date).days))\n",
    "            i+=1\n",
    "        else:\n",
    "            arr.append(int((current_date - start_date).days) - arr[i-1])\n",
    "            i+=1\n",
    "\n",
    "    specific_opportinity = specific_opportinity.loc[:, [\"Amount\", \"Probability\"]]\n",
    "    specific_opportinity.insert(2, \"Duration\", res_arr)\n",
    "    specific_opportinity.insert(3, \"DeltaDuration\", arr)\n",
    "    final_probability = specific_opportinity.iloc[-1, specific_opportinity.columns.get_loc('Probability')]\n",
    "    final_probability_array.append(final_probability)\n",
    "    #print(final_probability)\n",
    "    opp_array = np.array(specific_opportinity.iloc[-20:]).flatten()\n",
    "    #print(opp_array)\n",
    "    padding = np.ones(100) * 0.0\n",
    "    op_ar_new = np.append(padding,opp_array)\n",
    "    opp_array = op_ar_new[-80:]\n",
    "    #print(opp_array)\n",
    "    all_opportunities_array.append(opp_array)\n",
    "\n",
    "###\n",
    "# Okay array created now time for normalization i will create array with size of 20 x number of columns, 20 is choosed because 99% ended in 20 steps, and for deals that not ended at that time we will get last 20 events which will have enough information to give us understanding about deal and how it is going, it's pretty similar to how facebook acts, it's only checking for your last actions and reactions.\n",
    "# after making this normalization i will be able to put this array in to tensor as series(20, columns) and than teach it\n",
    "# plans changed\n",
    "\n"
   ]
  },
  {
   "cell_type": "code",
   "execution_count": 95,
   "outputs": [
    {
     "name": "stdout",
     "output_type": "stream",
     "text": [
      "[[ 0.000e+00  0.000e+00  0.000e+00  0.000e+00  0.000e+00  0.000e+00\n",
      "   0.000e+00  0.000e+00  0.000e+00  0.000e+00  0.000e+00  0.000e+00\n",
      "   0.000e+00  0.000e+00  0.000e+00  0.000e+00  0.000e+00  0.000e+00\n",
      "   0.000e+00  0.000e+00  0.000e+00  0.000e+00  0.000e+00  0.000e+00\n",
      "   0.000e+00  0.000e+00  0.000e+00  0.000e+00  0.000e+00  0.000e+00\n",
      "   0.000e+00  0.000e+00  0.000e+00  0.000e+00  0.000e+00  0.000e+00\n",
      "   0.000e+00  0.000e+00  0.000e+00  0.000e+00  0.000e+00  0.000e+00\n",
      "   0.000e+00  0.000e+00  0.000e+00  0.000e+00  0.000e+00  0.000e+00\n",
      "   0.000e+00  0.000e+00  0.000e+00  0.000e+00  0.000e+00  0.000e+00\n",
      "   0.000e+00  0.000e+00  0.000e+00  0.000e+00  0.000e+00  0.000e+00\n",
      "   0.000e+00  0.000e+00  0.000e+00  0.000e+00  0.000e+00  0.000e+00\n",
      "   0.000e+00  0.000e+00  0.000e+00  0.000e+00  0.000e+00  0.000e+00\n",
      "   0.000e+00  1.000e+02  0.000e+00  0.000e+00  0.000e+00  0.000e+00\n",
      "   8.800e+01  8.800e+01]\n",
      " [ 0.000e+00  0.000e+00  0.000e+00  0.000e+00  0.000e+00  0.000e+00\n",
      "   0.000e+00  0.000e+00  0.000e+00  0.000e+00  0.000e+00  0.000e+00\n",
      "   0.000e+00  0.000e+00  0.000e+00  0.000e+00  1.425e+04  1.000e+02\n",
      "   1.300e+02  1.300e+02  1.425e+04  7.000e+01  3.400e+01 -9.600e+01\n",
      "   1.425e+04  5.000e+01  5.300e+01  1.490e+02  1.425e+04  7.000e+01\n",
      "   5.300e+01 -9.600e+01  1.425e+04  1.000e+00  5.400e+01  1.500e+02\n",
      "   1.425e+04  6.000e+01  6.400e+01 -8.600e+01  1.425e+04  6.000e+01\n",
      "   7.800e+01  1.640e+02  1.425e+04  6.000e+01  8.400e+01 -8.000e+01\n",
      "   1.425e+04  6.000e+01  6.800e+01  1.480e+02  1.425e+04  7.500e+01\n",
      "   1.240e+02 -2.400e+01  1.425e+04  6.000e+01  9.900e+01  1.230e+02\n",
      "   1.425e+04  7.500e+01  1.030e+02 -2.000e+01  1.425e+04  1.000e+02\n",
      "   0.000e+00  2.000e+01  1.425e+04  3.000e+01  0.000e+00 -2.000e+01\n",
      "   1.425e+04  0.000e+00  2.900e+01  4.900e+01  1.425e+04  7.000e+01\n",
      "   3.300e+01 -1.600e+01]]\n"
     ]
    }
   ],
   "source": [
    "#print(all_opportunities_array[:2])\n",
    "#print(final_probability_array[:2])\n",
    "all_opportunities_array1 = np.asarray(all_opportunities_array)\n",
    "final_probability_array1 = np.asarray(final_probability_array)\n",
    "print(all_opportunities_array1[:2])\n",
    "#final_probability_array"
   ],
   "metadata": {
    "collapsed": false,
    "pycharm": {
     "name": "#%%\n"
    }
   }
  },
  {
   "cell_type": "code",
   "execution_count": 100,
   "id": "526f1490",
   "metadata": {
    "collapsed": false,
    "jupyter": {
     "outputs_hidden": false
    },
    "pycharm": {
     "name": "#%%\n"
    }
   },
   "outputs": [
    {
     "name": "stdout",
     "output_type": "stream",
     "text": [
      "Epoch 1/100000\n",
      "190/190 [==============================] - 1s 3ms/step - loss: nan\n",
      "Epoch 2/100000\n",
      "190/190 [==============================] - 0s 2ms/step - loss: nan\n",
      "Epoch 3/100000\n",
      "190/190 [==============================] - 0s 1ms/step - loss: nan\n",
      "Epoch 4/100000\n",
      "190/190 [==============================] - 0s 1ms/step - loss: nan\n",
      "Epoch 5/100000\n",
      "190/190 [==============================] - 0s 1ms/step - loss: nan\n",
      "Epoch 6/100000\n",
      "190/190 [==============================] - 0s 2ms/step - loss: nan\n",
      "Epoch 7/100000\n",
      " 35/190 [====>.........................] - ETA: 0s - loss: nan"
     ]
    },
    {
     "ename": "KeyboardInterrupt",
     "evalue": "",
     "output_type": "error",
     "traceback": [
      "\u001B[1;31m---------------------------------------------------------------------------\u001B[0m",
      "\u001B[1;31mKeyboardInterrupt\u001B[0m                         Traceback (most recent call last)",
      "Input \u001B[1;32mIn [100]\u001B[0m, in \u001B[0;36m<module>\u001B[1;34m\u001B[0m\n\u001B[0;32m      1\u001B[0m data_model \u001B[38;5;241m=\u001B[39m tensorflow\u001B[38;5;241m.\u001B[39mkeras\u001B[38;5;241m.\u001B[39mSequential(\n\u001B[0;32m      2\u001B[0m     [\n\u001B[0;32m      3\u001B[0m         tensorflow\u001B[38;5;241m.\u001B[39mkeras\u001B[38;5;241m.\u001B[39mlayers\u001B[38;5;241m.\u001B[39mDense(\u001B[38;5;241m256\u001B[39m),\n\u001B[1;32m   (...)\u001B[0m\n\u001B[0;32m      7\u001B[0m     ]\n\u001B[0;32m      8\u001B[0m )\n\u001B[0;32m     10\u001B[0m data_model\u001B[38;5;241m.\u001B[39mcompile(loss \u001B[38;5;241m=\u001B[39m tensorflow\u001B[38;5;241m.\u001B[39mlosses\u001B[38;5;241m.\u001B[39mMeanSquaredError(),\n\u001B[0;32m     11\u001B[0m                    optimizer \u001B[38;5;241m=\u001B[39m tensorflow\u001B[38;5;241m.\u001B[39moptimizers\u001B[38;5;241m.\u001B[39mAdam(learning_rate \u001B[38;5;241m=\u001B[39m \u001B[38;5;241m10\u001B[39m))\n\u001B[1;32m---> 13\u001B[0m \u001B[43mdata_model\u001B[49m\u001B[38;5;241;43m.\u001B[39;49m\u001B[43mfit\u001B[49m\u001B[43m(\u001B[49m\u001B[43mall_opportunities_array1\u001B[49m\u001B[43m,\u001B[49m\u001B[43m \u001B[49m\u001B[43mfinal_probability_array1\u001B[49m\u001B[43m,\u001B[49m\u001B[43m \u001B[49m\u001B[43mepochs\u001B[49m\u001B[43m \u001B[49m\u001B[38;5;241;43m=\u001B[39;49m\u001B[43m \u001B[49m\u001B[38;5;241;43m100000\u001B[39;49m\u001B[43m)\u001B[49m\n",
      "File \u001B[1;32mD:\\dev_programs\\Python\\Python310\\lib\\site-packages\\keras\\utils\\traceback_utils.py:64\u001B[0m, in \u001B[0;36mfilter_traceback.<locals>.error_handler\u001B[1;34m(*args, **kwargs)\u001B[0m\n\u001B[0;32m     62\u001B[0m filtered_tb \u001B[38;5;241m=\u001B[39m \u001B[38;5;28;01mNone\u001B[39;00m\n\u001B[0;32m     63\u001B[0m \u001B[38;5;28;01mtry\u001B[39;00m:\n\u001B[1;32m---> 64\u001B[0m   \u001B[38;5;28;01mreturn\u001B[39;00m fn(\u001B[38;5;241m*\u001B[39margs, \u001B[38;5;241m*\u001B[39m\u001B[38;5;241m*\u001B[39mkwargs)\n\u001B[0;32m     65\u001B[0m \u001B[38;5;28;01mexcept\u001B[39;00m \u001B[38;5;167;01mException\u001B[39;00m \u001B[38;5;28;01mas\u001B[39;00m e:  \u001B[38;5;66;03m# pylint: disable=broad-except\u001B[39;00m\n\u001B[0;32m     66\u001B[0m   filtered_tb \u001B[38;5;241m=\u001B[39m _process_traceback_frames(e\u001B[38;5;241m.\u001B[39m__traceback__)\n",
      "File \u001B[1;32mD:\\dev_programs\\Python\\Python310\\lib\\site-packages\\keras\\engine\\training.py:1376\u001B[0m, in \u001B[0;36mModel.fit\u001B[1;34m(self, x, y, batch_size, epochs, verbose, callbacks, validation_split, validation_data, shuffle, class_weight, sample_weight, initial_epoch, steps_per_epoch, validation_steps, validation_batch_size, validation_freq, max_queue_size, workers, use_multiprocessing)\u001B[0m\n\u001B[0;32m   1374\u001B[0m callbacks\u001B[38;5;241m.\u001B[39mon_epoch_begin(epoch)\n\u001B[0;32m   1375\u001B[0m \u001B[38;5;28;01mwith\u001B[39;00m data_handler\u001B[38;5;241m.\u001B[39mcatch_stop_iteration():\n\u001B[1;32m-> 1376\u001B[0m   \u001B[38;5;28;01mfor\u001B[39;00m step \u001B[38;5;129;01min\u001B[39;00m data_handler\u001B[38;5;241m.\u001B[39msteps():\n\u001B[0;32m   1377\u001B[0m     \u001B[38;5;28;01mwith\u001B[39;00m tf\u001B[38;5;241m.\u001B[39mprofiler\u001B[38;5;241m.\u001B[39mexperimental\u001B[38;5;241m.\u001B[39mTrace(\n\u001B[0;32m   1378\u001B[0m         \u001B[38;5;124m'\u001B[39m\u001B[38;5;124mtrain\u001B[39m\u001B[38;5;124m'\u001B[39m,\n\u001B[0;32m   1379\u001B[0m         epoch_num\u001B[38;5;241m=\u001B[39mepoch,\n\u001B[0;32m   1380\u001B[0m         step_num\u001B[38;5;241m=\u001B[39mstep,\n\u001B[0;32m   1381\u001B[0m         batch_size\u001B[38;5;241m=\u001B[39mbatch_size,\n\u001B[0;32m   1382\u001B[0m         _r\u001B[38;5;241m=\u001B[39m\u001B[38;5;241m1\u001B[39m):\n\u001B[0;32m   1383\u001B[0m       callbacks\u001B[38;5;241m.\u001B[39mon_train_batch_begin(step)\n",
      "File \u001B[1;32mD:\\dev_programs\\Python\\Python310\\lib\\site-packages\\keras\\engine\\data_adapter.py:1246\u001B[0m, in \u001B[0;36mDataHandler.steps\u001B[1;34m(self)\u001B[0m\n\u001B[0;32m   1244\u001B[0m \u001B[38;5;28;01mif\u001B[39;00m \u001B[38;5;28mself\u001B[39m\u001B[38;5;241m.\u001B[39m_insufficient_data:  \u001B[38;5;66;03m# Set by `catch_stop_iteration`.\u001B[39;00m\n\u001B[0;32m   1245\u001B[0m   \u001B[38;5;28;01mbreak\u001B[39;00m\n\u001B[1;32m-> 1246\u001B[0m original_spe \u001B[38;5;241m=\u001B[39m \u001B[38;5;28;43mself\u001B[39;49m\u001B[38;5;241;43m.\u001B[39;49m\u001B[43m_steps_per_execution\u001B[49m\u001B[38;5;241;43m.\u001B[39;49m\u001B[43mnumpy\u001B[49m\u001B[43m(\u001B[49m\u001B[43m)\u001B[49m\u001B[38;5;241m.\u001B[39mitem()\n\u001B[0;32m   1247\u001B[0m can_run_full_execution \u001B[38;5;241m=\u001B[39m (\n\u001B[0;32m   1248\u001B[0m     original_spe \u001B[38;5;241m==\u001B[39m \u001B[38;5;241m1\u001B[39m \u001B[38;5;129;01mor\u001B[39;00m\n\u001B[0;32m   1249\u001B[0m     \u001B[38;5;28mself\u001B[39m\u001B[38;5;241m.\u001B[39m_inferred_steps \u001B[38;5;129;01mis\u001B[39;00m \u001B[38;5;28;01mNone\u001B[39;00m \u001B[38;5;129;01mor\u001B[39;00m\n\u001B[0;32m   1250\u001B[0m     \u001B[38;5;28mself\u001B[39m\u001B[38;5;241m.\u001B[39m_inferred_steps \u001B[38;5;241m-\u001B[39m \u001B[38;5;28mself\u001B[39m\u001B[38;5;241m.\u001B[39m_current_step \u001B[38;5;241m>\u001B[39m\u001B[38;5;241m=\u001B[39m\n\u001B[0;32m   1251\u001B[0m     original_spe)\n\u001B[0;32m   1253\u001B[0m \u001B[38;5;28;01mif\u001B[39;00m can_run_full_execution:\n",
      "File \u001B[1;32mD:\\dev_programs\\Python\\Python310\\lib\\site-packages\\tensorflow\\python\\ops\\resource_variable_ops.py:674\u001B[0m, in \u001B[0;36mBaseResourceVariable.numpy\u001B[1;34m(self)\u001B[0m\n\u001B[0;32m    672\u001B[0m \u001B[38;5;28;01mdef\u001B[39;00m \u001B[38;5;21mnumpy\u001B[39m(\u001B[38;5;28mself\u001B[39m):\n\u001B[0;32m    673\u001B[0m   \u001B[38;5;28;01mif\u001B[39;00m context\u001B[38;5;241m.\u001B[39mexecuting_eagerly():\n\u001B[1;32m--> 674\u001B[0m     \u001B[38;5;28;01mreturn\u001B[39;00m \u001B[38;5;28;43mself\u001B[39;49m\u001B[38;5;241;43m.\u001B[39;49m\u001B[43mread_value\u001B[49m\u001B[43m(\u001B[49m\u001B[43m)\u001B[49m\u001B[38;5;241m.\u001B[39mnumpy()\n\u001B[0;32m    675\u001B[0m   \u001B[38;5;28;01mraise\u001B[39;00m \u001B[38;5;167;01mNotImplementedError\u001B[39;00m(\n\u001B[0;32m    676\u001B[0m       \u001B[38;5;124m\"\u001B[39m\u001B[38;5;124mnumpy() is only available when eager execution is enabled.\u001B[39m\u001B[38;5;124m\"\u001B[39m)\n",
      "File \u001B[1;32mD:\\dev_programs\\Python\\Python310\\lib\\site-packages\\tensorflow\\python\\ops\\resource_variable_ops.py:749\u001B[0m, in \u001B[0;36mBaseResourceVariable.read_value\u001B[1;34m(self)\u001B[0m\n\u001B[0;32m    740\u001B[0m \u001B[38;5;124;03m\"\"\"Constructs an op which reads the value of this variable.\u001B[39;00m\n\u001B[0;32m    741\u001B[0m \n\u001B[0;32m    742\u001B[0m \u001B[38;5;124;03mShould be used when there are multiple reads, or when it is desirable to\u001B[39;00m\n\u001B[1;32m   (...)\u001B[0m\n\u001B[0;32m    746\u001B[0m \u001B[38;5;124;03m the read operation.\u001B[39;00m\n\u001B[0;32m    747\u001B[0m \u001B[38;5;124;03m\"\"\"\u001B[39;00m\n\u001B[0;32m    748\u001B[0m \u001B[38;5;28;01mwith\u001B[39;00m ops\u001B[38;5;241m.\u001B[39mname_scope(\u001B[38;5;124m\"\u001B[39m\u001B[38;5;124mRead\u001B[39m\u001B[38;5;124m\"\u001B[39m):\n\u001B[1;32m--> 749\u001B[0m   value \u001B[38;5;241m=\u001B[39m \u001B[38;5;28;43mself\u001B[39;49m\u001B[38;5;241;43m.\u001B[39;49m\u001B[43m_read_variable_op\u001B[49m\u001B[43m(\u001B[49m\u001B[43m)\u001B[49m\n\u001B[0;32m    750\u001B[0m \u001B[38;5;66;03m# Return an identity so it can get placed on whatever device the context\u001B[39;00m\n\u001B[0;32m    751\u001B[0m \u001B[38;5;66;03m# specifies instead of the device where the variable is.\u001B[39;00m\n\u001B[0;32m    752\u001B[0m \u001B[38;5;28;01mreturn\u001B[39;00m array_ops\u001B[38;5;241m.\u001B[39midentity(value)\n",
      "File \u001B[1;32mD:\\dev_programs\\Python\\Python310\\lib\\site-packages\\tensorflow\\python\\ops\\resource_variable_ops.py:728\u001B[0m, in \u001B[0;36mBaseResourceVariable._read_variable_op\u001B[1;34m(self)\u001B[0m\n\u001B[0;32m    726\u001B[0m       result \u001B[38;5;241m=\u001B[39m read_and_set_handle()\n\u001B[0;32m    727\u001B[0m \u001B[38;5;28;01melse\u001B[39;00m:\n\u001B[1;32m--> 728\u001B[0m   result \u001B[38;5;241m=\u001B[39m \u001B[43mread_and_set_handle\u001B[49m\u001B[43m(\u001B[49m\u001B[43m)\u001B[49m\n\u001B[0;32m    730\u001B[0m \u001B[38;5;28;01mif\u001B[39;00m \u001B[38;5;129;01mnot\u001B[39;00m context\u001B[38;5;241m.\u001B[39mexecuting_eagerly():\n\u001B[0;32m    731\u001B[0m   \u001B[38;5;66;03m# Note that if a control flow context is active the input of the read op\u001B[39;00m\n\u001B[0;32m    732\u001B[0m   \u001B[38;5;66;03m# might not actually be the handle. This line bypasses it.\u001B[39;00m\n\u001B[0;32m    733\u001B[0m   tape\u001B[38;5;241m.\u001B[39mrecord_operation(\n\u001B[0;32m    734\u001B[0m       \u001B[38;5;124m\"\u001B[39m\u001B[38;5;124mReadVariableOp\u001B[39m\u001B[38;5;124m\"\u001B[39m, [result], [\u001B[38;5;28mself\u001B[39m\u001B[38;5;241m.\u001B[39mhandle],\n\u001B[0;32m    735\u001B[0m       backward_function\u001B[38;5;241m=\u001B[39m\u001B[38;5;28;01mlambda\u001B[39;00m x: [x],\n\u001B[0;32m    736\u001B[0m       forward_function\u001B[38;5;241m=\u001B[39m\u001B[38;5;28;01mlambda\u001B[39;00m x: [x])\n",
      "File \u001B[1;32mD:\\dev_programs\\Python\\Python310\\lib\\site-packages\\tensorflow\\python\\ops\\resource_variable_ops.py:718\u001B[0m, in \u001B[0;36mBaseResourceVariable._read_variable_op.<locals>.read_and_set_handle\u001B[1;34m()\u001B[0m\n\u001B[0;32m    717\u001B[0m \u001B[38;5;28;01mdef\u001B[39;00m \u001B[38;5;21mread_and_set_handle\u001B[39m():\n\u001B[1;32m--> 718\u001B[0m   result \u001B[38;5;241m=\u001B[39m \u001B[43mgen_resource_variable_ops\u001B[49m\u001B[38;5;241;43m.\u001B[39;49m\u001B[43mread_variable_op\u001B[49m\u001B[43m(\u001B[49m\n\u001B[0;32m    719\u001B[0m \u001B[43m      \u001B[49m\u001B[38;5;28;43mself\u001B[39;49m\u001B[38;5;241;43m.\u001B[39;49m\u001B[43mhandle\u001B[49m\u001B[43m,\u001B[49m\u001B[43m \u001B[49m\u001B[38;5;28;43mself\u001B[39;49m\u001B[38;5;241;43m.\u001B[39;49m\u001B[43m_dtype\u001B[49m\u001B[43m)\u001B[49m\n\u001B[0;32m    720\u001B[0m   _maybe_set_handle_data(\u001B[38;5;28mself\u001B[39m\u001B[38;5;241m.\u001B[39m_dtype, \u001B[38;5;28mself\u001B[39m\u001B[38;5;241m.\u001B[39mhandle, result)\n\u001B[0;32m    721\u001B[0m   \u001B[38;5;28;01mreturn\u001B[39;00m result\n",
      "File \u001B[1;32mD:\\dev_programs\\Python\\Python310\\lib\\site-packages\\tensorflow\\python\\ops\\gen_resource_variable_ops.py:478\u001B[0m, in \u001B[0;36mread_variable_op\u001B[1;34m(resource, dtype, name)\u001B[0m\n\u001B[0;32m    476\u001B[0m \u001B[38;5;28;01mif\u001B[39;00m tld\u001B[38;5;241m.\u001B[39mis_eager:\n\u001B[0;32m    477\u001B[0m   \u001B[38;5;28;01mtry\u001B[39;00m:\n\u001B[1;32m--> 478\u001B[0m     _result \u001B[38;5;241m=\u001B[39m \u001B[43mpywrap_tfe\u001B[49m\u001B[38;5;241;43m.\u001B[39;49m\u001B[43mTFE_Py_FastPathExecute\u001B[49m\u001B[43m(\u001B[49m\n\u001B[0;32m    479\u001B[0m \u001B[43m      \u001B[49m\u001B[43m_ctx\u001B[49m\u001B[43m,\u001B[49m\u001B[43m \u001B[49m\u001B[38;5;124;43m\"\u001B[39;49m\u001B[38;5;124;43mReadVariableOp\u001B[39;49m\u001B[38;5;124;43m\"\u001B[39;49m\u001B[43m,\u001B[49m\u001B[43m \u001B[49m\u001B[43mname\u001B[49m\u001B[43m,\u001B[49m\u001B[43m \u001B[49m\u001B[43mresource\u001B[49m\u001B[43m,\u001B[49m\u001B[43m \u001B[49m\u001B[38;5;124;43m\"\u001B[39;49m\u001B[38;5;124;43mdtype\u001B[39;49m\u001B[38;5;124;43m\"\u001B[39;49m\u001B[43m,\u001B[49m\u001B[43m \u001B[49m\u001B[43mdtype\u001B[49m\u001B[43m)\u001B[49m\n\u001B[0;32m    480\u001B[0m     \u001B[38;5;28;01mreturn\u001B[39;00m _result\n\u001B[0;32m    481\u001B[0m   \u001B[38;5;28;01mexcept\u001B[39;00m _core\u001B[38;5;241m.\u001B[39m_NotOkStatusException \u001B[38;5;28;01mas\u001B[39;00m e:\n",
      "\u001B[1;31mKeyboardInterrupt\u001B[0m: "
     ]
    }
   ],
   "source": [
    "data_model = tensorflow.keras.Sequential(\n",
    "    [\n",
    "        tensorflow.keras.layers.Dense(256),\n",
    "        tensorflow.keras.layers.Dense(256),\n",
    "        tensorflow.keras.layers.Dense(128),\n",
    "        tensorflow.keras.layers.Dense(1)\n",
    "    ]\n",
    ")\n",
    "\n",
    "data_model.compile(loss = tensorflow.losses.MeanSquaredError(),\n",
    "                   optimizer = tensorflow.optimizers.Adam())\n",
    "\n",
    "data_model.fit(all_opportunities_array1, final_probability_array1, epochs = 100000)"
   ]
  },
  {
   "cell_type": "code",
   "execution_count": null,
   "id": "ccf75c70",
   "metadata": {
    "scrolled": true
   },
   "outputs": [],
   "source": [
    "specific_opportinity.drop_duplicates(subset=['Duration'], inplace=True)\n",
    "specific_opportinity"
   ]
  },
  {
   "cell_type": "code",
   "execution_count": null,
   "id": "98528676",
   "metadata": {},
   "outputs": [],
   "source": [
    "sns.heatmap(specific_opportinity.corr('pearson'), annot=True, fmt='.2f')"
   ]
  },
  {
   "cell_type": "code",
   "execution_count": null,
   "id": "35a7f5c0",
   "metadata": {},
   "outputs": [],
   "source": [
    "#sns.barplot(x=\"Duration\", y=\"Probability\", data=specific_opportinity)\n",
    "#sns.scatterplot(x=\"Duration\", y=\"Probability\", data=specific_opportinity)\n",
    "\n",
    "regressor = RandomForestRegressor(n_estimators=500, random_state=0)"
   ]
  },
  {
   "cell_type": "code",
   "execution_count": null,
   "id": "fec05020",
   "metadata": {},
   "outputs": [],
   "source": [
    "plt.figure(figsize=(20,7))\n",
    "X = specific_opportinity['Duration'].values[:,np.newaxis]\n",
    "# target data is array of shape (n,) \n",
    "y = specific_opportinity['Probability'].values\n",
    "\n",
    "regressor.fit(X, y)\n",
    "\n",
    "y_prediction_forest = regressor.predict(X)\n",
    "sns.scatterplot(x=specific_opportinity['Duration'], y = y)\n",
    "sns.lineplot(x=specific_opportinity['Duration'], y = y_prediction_forest)\n",
    "\n",
    "print('score -> ', regressor.score(X, y))"
   ]
  },
  {
   "cell_type": "code",
   "execution_count": null,
   "id": "c1994048",
   "metadata": {},
   "outputs": [],
   "source": []
  }
 ],
 "metadata": {
  "kernelspec": {
   "display_name": "Python 3 (ipykernel)",
   "language": "python",
   "name": "python3"
  },
  "language_info": {
   "codemirror_mode": {
    "name": "ipython",
    "version": 3
   },
   "file_extension": ".py",
   "mimetype": "text/x-python",
   "name": "python",
   "nbconvert_exporter": "python",
   "pygments_lexer": "ipython3",
   "version": "3.9.7"
  }
 },
 "nbformat": 4,
 "nbformat_minor": 5
}